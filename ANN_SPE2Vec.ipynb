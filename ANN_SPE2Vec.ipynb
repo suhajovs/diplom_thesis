{
 "cells": [
  {
   "cell_type": "markdown",
   "id": "6b4687db-d579-4c33-9fab-67d1959c72f8",
   "metadata": {},
   "source": [
    "### Diplom thesis\n",
    "- vyzkouset/najit spravnou **architekturu neuronove site** (LSTM 2-3 vnitrni vrstvy, droup out vyzkouset, zmensovani velikosti vrstev, hyperopt, pouzit Keras?)\n",
    "- **optimalizace parametru** neuronove site\n",
    "- provest **uceni neuronove site** (to mozna nechat na konec, provest 20x-30x beh nebo cross validaci -> zprumerovat? at je to pouzitelne ono to vychazi dost ruzne)"
   ]
  },
  {
   "cell_type": "code",
   "execution_count": 120,
   "id": "5b8ddff8-204b-47b8-b0bd-5d8f7a334544",
   "metadata": {},
   "outputs": [],
   "source": [
    "# keras module for building LSTM \n",
    "from tensorflow.keras.preprocessing.sequence import pad_sequences\n",
    "from tensorflow.keras.layers import Embedding, LSTM, Dense, Dropout, Bidirectional, SpatialDropout1D\n",
    "from keras.preprocessing.text import Tokenizer\n",
    "from keras.callbacks import EarlyStopping\n",
    "from keras.models import Sequential\n",
    "import keras.utils as ku \n",
    "from sklearn.model_selection import train_test_split\n",
    "\n",
    "import tensorflow as tf\n",
    "from tensorflow import keras\n",
    "from tensorflow.keras import layers\n",
    "import tensorflow\n",
    "from keras import models \n",
    "# from tensorflow.keras.layers import Input, Embedding, LSTM, \n",
    "\n",
    "from keras.callbacks import EarlyStopping\n",
    "from keras.callbacks import ModelCheckpoint\n",
    "\n",
    "import pandas as pd\n",
    "import numpy as np\n",
    "import string, os \n",
    "import math\n",
    "from matplotlib import pyplot as plt\n",
    "\n",
    "import ast\n",
    "from tensorflow.keras.preprocessing.sequence import pad_sequences\n",
    "import itertools\n",
    "\n",
    "import re\n",
    "import warnings\n",
    "warnings.filterwarnings(\"ignore\")\n",
    "warnings.simplefilter(action='ignore', category=FutureWarning)\n",
    "from hyperopt.pyll.base import scope \n",
    "from hyperopt import pyll, hp, Trials, fmin, tpe, STATUS_OK\n",
    "# from keras.wrappers.scikit_learn import KerasRegressor\n",
    "from keras.wrappers.scikit_learn import KerasRegressor \n",
    "# import scikeras\n",
    "# from scikeras.wrappers import KerasRegressor\n",
    "from sklearn.model_selection import KFold\n",
    "from sklearn.model_selection import cross_val_score\n",
    "import pickle"
   ]
  },
  {
   "cell_type": "markdown",
   "id": "d1433614-56e7-43ab-b5b7-ab29198a53e8",
   "metadata": {},
   "source": [
    "# Load data"
   ]
  },
  {
   "cell_type": "markdown",
   "id": "c9d612f1-7aaa-4ca8-9f24-6f7275ef9877",
   "metadata": {},
   "source": [
    "# Trenovani neuronove site"
   ]
  },
  {
   "cell_type": "code",
   "execution_count": 121,
   "id": "dcb157aa-5cd3-4c0d-9035-592460beb1ac",
   "metadata": {},
   "outputs": [],
   "source": [
    "def showPlot(history,linearNotation_name,modelLossPlot_name):\n",
    "    # plot training history\n",
    "    plt.plot(history.history['loss'])\n",
    "    plt.plot(history.history['val_loss'])\n",
    "    plt.title('model loss - '+linearNotation_name)\n",
    "    plt.ylabel('loss')\n",
    "    plt.xlabel('epoch')\n",
    "    plt.legend(['train', 'val'], loc='upper right')\n",
    "    plt.savefig(modelLossPlot_name)\n",
    "    plt.show()"
   ]
  },
  {
   "cell_type": "markdown",
   "id": "71d2832b-9a80-40fb-9215-a4fb5aa9a216",
   "metadata": {},
   "source": [
    "### Pomocne funkce"
   ]
  },
  {
   "cell_type": "code",
   "execution_count": 122,
   "id": "4fd4b4e4-51ea-4020-9a81-34cb6d4b373f",
   "metadata": {},
   "outputs": [],
   "source": [
    "# kontrola, rozdeleni data tak je vzdy stejne i kdyz pouziji data pro jiny chem. lin. zapis\n",
    "def splitData(idx, list_token, ys, RANDOM_STATE):  \n",
    "    # smiles ulozeni tokenu pro smiles\n",
    "    X_train, X_test, y_train, y_test = train_test_split(list_token, ys, test_size=0.2,shuffle=True, random_state=RANDOM_STATE)\n",
    "    X_train, X_val, y_train, y_val = train_test_split(X_train, y_train, test_size=0.25,shuffle=True, random_state=RANDOM_STATE) # 0.25 x 0.8 = 0.2\n",
    "    t_w= len(np.unique(list(itertools.chain.from_iterable(X_train))))\n",
    "    \n",
    "    return X_train,y_train,X_val,y_val,X_test,y_test,t_w"
   ]
  },
  {
   "cell_type": "code",
   "execution_count": 123,
   "id": "45307080-4453-4f3d-8bc2-3ff0f39b5027",
   "metadata": {},
   "outputs": [],
   "source": [
    "# vytvoreni modelu s tunnenim parametru\n",
    "def create_model(units, layers, rate, max_length, vocab_size):\n",
    "    n_features = 1\n",
    "    # tady je treba to nastavit podle nejvyssiho indexu, jinak embedding vyhodi chybu\n",
    "    vocab_size=vocab_size+10000\n",
    "    # Keras LSTM model\n",
    "    model = Sequential()\n",
    "    model.add(Embedding(vocab_size, 100, input_length=max_length))\n",
    "\n",
    "    if layers == 1:\n",
    "        model.add(LSTM(units=units, input_shape=(max_length, n_features) ))\n",
    "        model.add(Dropout(rate=rate))\n",
    "    else:\n",
    "        # First layer specifies input_shape and returns sequences\n",
    "        model.add(LSTM(units=units, return_sequences=True, input_shape=(max_length, n_features)))\n",
    "        model.add(Dropout(rate=rate))\n",
    "\n",
    "        # Middle layers return sequences\n",
    "        for i in range(layers-2):\n",
    "            model.add(LSTM(units=units, return_sequences=True))\n",
    "            model.add(Dropout(rate=rate))\n",
    "\n",
    "        # Last layer doesn't return anything\n",
    "        model.add(LSTM(units=units))\n",
    "        model.add(Dropout(rate=rate))\n",
    "\n",
    "    model.add(Dense(1, activation='linear'))\n",
    "    model.compile(loss='mse', optimizer='adam',metrics=['mse'])\n",
    "    return model"
   ]
  },
  {
   "cell_type": "code",
   "execution_count": 124,
   "id": "6453e9cf-e9a8-47e7-98d8-ce2516fc44e2",
   "metadata": {},
   "outputs": [],
   "source": [
    "# objective funkce pro hyperopt s cross validaci\n",
    "def objective(params, list_token, n_patience, idx, max_length,vocab_size, n_folds=2):\n",
    "    es = EarlyStopping(monitor='loss', mode='min', verbose=1, patience=n_patience)\n",
    "    # mc = ModelCheckpoint(bestModel_name, monitor='val_loss', mode='min', verbose=1, save_best_only=True)\n",
    "    # result = model.fit(X_train, y_train, validation_data=(X_val, y_val), epochs=400, verbose=0, callbacks=[es, mc])\n",
    "    \n",
    "    model_nn = KerasRegressor(build_fn = create_model,**params, max_length=max_length,vocab_size=vocab_size,  epochs = 400, verbose = 0)\n",
    "    kfold = KFold(n_splits=5, shuffle=True, random_state=RANDOM_STATE)\n",
    "    score = cross_val_score(model_nn, X_train, y_train,scoring='neg_mean_squared_error', cv=kfold,fit_params={'callbacks':[es]},error_score='raise').mean()\n",
    "    loss = -score\n",
    "    print('params:\\t',params)\n",
    "    print('score:\\t',loss)\n",
    "    \n",
    "    # Dictionary with information for evaluation\n",
    "    return {\n",
    "        'loss': loss,\n",
    "        'params': params,\n",
    "        'status': STATUS_OK }"
   ]
  },
  {
   "cell_type": "code",
   "execution_count": 125,
   "id": "1e62e836-bd64-4071-8027-e9d1cfa2ef0d",
   "metadata": {},
   "outputs": [],
   "source": [
    "def replaceMultiWhitespaceSingle(x):\n",
    "    _RE_COMBINE_WHITESPACE = re.compile(r\"\\s+\")\n",
    "    my_str = _RE_COMBINE_WHITESPACE.sub(\" \", x).strip()\n",
    "    # print(my_str.count('[')-1)\n",
    "    # print(type(my_str))\n",
    "    # print(my_str[1:1100])\n",
    "    # for i in range(my_str.count('[')-1):\n",
    "    #     print('i = '+str(i))\n",
    "    #     print(re.findall(r\"\\[(.+?)\\]\", x[1:]))\n",
    "    #     print(re.findall(r\"\\[(.+?)\\]\", x[1:])[i])\n",
    "    \n",
    "    y = [re.findall(r\"\\[(.+?)\\]\", my_str[1:])[i] for i in range(my_str.count('[')-1)]\n",
    "        # print(y)\n",
    "        # r'\\d+'\n",
    "    res = [re.findall(r\"\\d+\\.\\d+\", y[i]) for i in range(len(y))]\n",
    "    return res"
   ]
  },
  {
   "cell_type": "code",
   "execution_count": 126,
   "id": "f1bbbbb9-dd5b-4579-ac28-5471b3f63e2d",
   "metadata": {},
   "outputs": [],
   "source": [
    "# nacteny list tokenu prevedu na list a pak pomoci pad_sequence na validni vstup do neuronove site\n",
    "def createListToken(df, RANDOM_STATE, limit, col_names):  \n",
    "    list_tokens = []\n",
    "    for col_name in col_names:\n",
    "        # np.array(x, dtype=np.float)\n",
    "        res = df[col_name+'_SPE2Vec'].apply(lambda x: replaceMultiWhitespaceSingle(x))\n",
    "        # print(res[0])\n",
    "#         x = '''[1482.5, array([-0.09798757, 0.14100067, -0.29476792, -0.35458204, -0.2151826]) , 1482.5]'''\n",
    "#         x = \"[['ATRM', 'SIF', 'NWPX'], ['NAV','SENEA'], ['HES','AGYS', 'CBST', 'GTIM', 'XRSC']]\"\n",
    "        list_tokens.append(res) \n",
    "    return list_tokens"
   ]
  },
  {
   "cell_type": "code",
   "execution_count": 127,
   "id": "cca74afd-e183-49d3-b3b9-5fa6090058c8",
   "metadata": {},
   "outputs": [],
   "source": [
    "# x = '[1482.5, array([-0.09798757, 0.14100067, -0.29476792, -0.35458204, -0.2151826]),array([-0.09798757, 0.14100067, -0.29476792, -0.35458204, -0.2151826]), 1482.5]'\n",
    "        \n",
    "# # x = \"[['ATRM', 'SIF', 'NWPX'], ['NAV','SENEA'], ['HES','AGYS', 'CBST', 'GTIM', 'XRSC']]\"\n",
    "\n",
    "# y = [re.findall(r\"\\[(.+?)\\]\", x[1:])[i] for i in range(x.count('[')-1)]\n",
    "# print(y)\n",
    "# r'\\d+'\n",
    "# answer = [re.findall(r\"\\d+\\.\\d+\", y[i]) for i in range(len(y))]\n",
    "    \n",
    "# y = [re.findall(r\" array\\(\\[(.+?)\\]\\, dtype=float32\\)\", x[1:])[i] for i in range(x.count('[')-1)]\n",
    "\n",
    "# answer = [re.findall(r\"'(.+?)'\", y[i]) for i in range(len(y))]\n",
    "# print(answer)"
   ]
  },
  {
   "cell_type": "markdown",
   "id": "1e7dc741-235f-48d4-bd8d-80f7ca01d505",
   "metadata": {},
   "source": [
    "# Novy pokus a spravne"
   ]
  },
  {
   "cell_type": "code",
   "execution_count": 128,
   "id": "59cca12f-cd0f-4cee-9e13-d1fe86708415",
   "metadata": {},
   "outputs": [
    {
     "name": "stdout",
     "output_type": "stream",
     "text": [
      "\n",
      "spe\n"
     ]
    }
   ],
   "source": [
    "# zkontrolovat, jestli se jedna os pravny chemicky linearni zapis\n",
    "\n",
    "# tokenization_names = ['bpe','atom','char','spe','kmer']\n",
    "tokenization_names = ['spe']\n",
    "fileName_tokenization = ['../data/VEGF2_ChEMBL28_tokenizationSPE_oneHotEncoding_listTokensIds_SPE2Vec.csv']\n",
    "# fileName_tokenization = ['../data/VEGF2_ChEMBL28_tokenizationSPE_oneHotEncoding_listTokensIds_cutListTokensIds.csv']\n",
    "# linearNotation_names = ['canonical_smiles','sln','deep_smiles','selfies','inchi']\n",
    "linearNotation_names = ['canonical_smiles']\n",
    "m_e=1\n",
    "n_patience = 3\n",
    "RANDOM_STATE=42\n",
    "limit =20\n",
    "\n",
    "space = {'rate'              : hp.uniform('rate',0.01,0.5),\n",
    "         'units'             : scope.int(hp.quniform('units',10,120,5)),\n",
    "         'layers'            : scope.int(hp.quniform('layers',2,3,1))}\n",
    "\n",
    "for i in range(len(tokenization_names)):\n",
    "    tokenization = tokenization_names[i]\n",
    "    print('\\n'+tokenization)\n",
    "    df = pd.read_csv(fileName_tokenization[i],sep=',')\n",
    "    \n",
    "    ys = df['value'][:limit]\n",
    "    list_token = createListToken(df, RANDOM_STATE, limit, linearNotation_names)\n",
    "    # list_token = np.array(list_token)\n",
    "    # list_token = list_token[0]\n",
    "    # print(list_token.shape)\n",
    "    # print(len(list_token[0]))\n",
    "    # print(len(list_token[0][0]))\n",
    "    # print(len(list_token[0][0][0]))\n",
    "    # print(len(list_token[0][0][0][0]))\n",
    "    # print(list_token[0][0][0])\n",
    "    # # arr = numpy.array(lst)\n",
    " \n",
    "    \n",
    "    # X = numpy.zeros((6000, 64, 100, 50), dtype=numpy.uint8)\n",
    "    # X = numpy.reshape(X, (6000, 64, 100*50))\n",
    "    \n",
    "    for j in range(len(linearNotation_names)):\n",
    "        chem_notation = linearNotation_names[j]\n",
    "       \n",
    "        # # input shape\n",
    "        # # (batch_size, timesteps, input_dim)\n",
    "        # # (6000, 64, 100, 50) The 6000 is just the number of sample sequences. Each sequences is 64 in length.\n",
    "        # # In your case you have 64 timesteps where each step is of shape (100, 50). The easiest way to get the model working is to reshape your data to (100*50).\n",
    "        # print('   ',chem_notation)\n",
    "        # model = Sequential()\n",
    "        # model.add(LSTM(units=30, input_shape=(len(list_token[0]),len(list_token[0][0]),len(list_token[0][0][0]))))\n",
    "        # model.add(Dropout(rate=0))\n",
    "\n"
   ]
  },
  {
   "cell_type": "code",
   "execution_count": 129,
   "id": "08902b75-7917-4ee1-a067-c908ee8d3e9b",
   "metadata": {},
   "outputs": [],
   "source": [
    "# list_token"
   ]
  },
  {
   "cell_type": "code",
   "execution_count": 159,
   "id": "026fc671-df31-417d-b4ee-c61c09cda24d",
   "metadata": {},
   "outputs": [
    {
     "name": "stdout",
     "output_type": "stream",
     "text": [
      "<class 'list'>\n"
     ]
    }
   ],
   "source": [
    "temp=[i for i in list_token]\n",
    "temp = temp[0].tolist()\n",
    "# print(temp)\n",
    "    # for j in range(len(linearNotation_names)):\n",
    "    #     chem_notation = linearNotation_names[j]\n",
    "       \n",
    "        # input shape\n",
    "        # (batch_size, timesteps, input_dim)\n",
    "        # (6000, 64, 100, 50) The 6000 is just the number of sample sequences. Each sequences is 64 in length.\n",
    "        # In your case you have 64 timesteps where each step is of shape (100, 50). The easiest way to get the model working is to reshape your data to (100*50).\n",
    "# # to je jeden velky list\n",
    "# for i in range(len(temp)):\n",
    "#     # po radcich jak to bylo v dataframu\n",
    "#     for j in range(len(temp[i])):\n",
    "#         for k in range(len(temp[i][j])):\n",
    "#             # temp[i][j][k] = list(map(float, temp[i][j][k]))\n",
    "#             temp[i][j][k]  = [float(i) for i in temp[i][j][k]]\n",
    "            \n",
    "res = [[[float(i) for i in second_dim] for second_dim in one_dim] for one_dim in temp]\n",
    "print(type(res))   \n",
    "        \n",
    "\n",
    "# X = numpy.zeros((6000, 64, 100, 50), dtype=numpy.uint8)\n",
    "# X = numpy.reshape(X, (6000, 64, 100*50))\n",
    "\n",
    "# print(arr)\n",
    "# arr = np.array(arr)[indices.astype(int)]\n",
    "#                   # radku               # tokenu               # cisel zakorovnaeho tokenu\n",
    "# np.array(arr).reshape(len(list_token[0]), len(list_token[0][0]), list_token[0][0][0])\n",
    "# X = numpy.zeros((6000, 64, 100, 50), dtype=numpy.uint8)\n",
    "# arr = np.reshape(arr, (len(arr), len(arr[0]), len(arr[0][0])))\n",
    "# print(type(arr))\n",
    "# print(type(arr[0]))\n",
    "# # print(arr[0])\n",
    "# print(type(arr[0][0]))\n",
    "# arr=np.array(arr)\n",
    "# print(arr)\n",
    "# # print(arr[:2])\n",
    "# # arr.shape\n"
   ]
  },
  {
   "cell_type": "code",
   "execution_count": 172,
   "id": "1ca1921a-4255-4e5b-9676-81edc2d2b414",
   "metadata": {},
   "outputs": [
    {
     "name": "stdout",
     "output_type": "stream",
     "text": [
      "25\n"
     ]
    }
   ],
   "source": [
    "from keras.preprocessing import sequence\n",
    "# print(len(res))\n",
    "# print(len(res[1]))  \n",
    "# print(len(res[1][2]))  \n",
    "# X = numpy.zeros((6000, 64, 100), dtype=numpy.uint8)\n",
    "length_arr=[]\n",
    "for l in res:\n",
    "    length_arr.append(len(l))\n",
    "len_vector = len(res[0][0])\n",
    "addPadVector = [0 for i in range(len_vector)]\n",
    "\n",
    "max_length=25\n",
    "\n",
    "for i in range(len(res)):\n",
    "    for j in range(max_length+1):\n",
    "        if(j > len(res[i])):\n",
    "            res[i].append(addPadVector)\n",
    "            \n",
    "for i in range(len(res)):\n",
    "    if(len(res[i])>max_length):\n",
    "        res[i]=res[i][:max_length]\n",
    "            \n",
    "print(max_length)\n",
    "# print(len(res))\n",
    "# print(len(res[1]))  \n",
    "# print(len(res[1][2]))         \n",
    "# print(res[0])\n",
    "lengths = [len(res[i]) for i in range(len(res))]\n",
    "# set()\n",
    "# lengths\n",
    "# data_array=sequence.pad_sequences(res[0],maxlen=max_length)\n",
    "# data_array\n",
    "# arr = np.reshape(arr, (len(arr), len(arr[0]), len(arr[0][0])))\n",
    "# arr = np.reshape(res, (len(res), len(res[0]), len(res[0][0])))"
   ]
  },
  {
   "cell_type": "code",
   "execution_count": 174,
   "id": "a04ac21f-6acd-41f0-a0e4-1d2c5e85e627",
   "metadata": {},
   "outputs": [],
   "source": [
    "res = np.array(res)"
   ]
  },
  {
   "cell_type": "code",
   "execution_count": 183,
   "id": "f8114c87-2a30-4c2b-8890-97c7bf55f3a2",
   "metadata": {},
   "outputs": [
    {
     "data": {
      "text/plain": [
       "<bound method Model.summary of <keras.engine.sequential.Sequential object at 0x7f98dc848d00>>"
      ]
     },
     "execution_count": 183,
     "metadata": {},
     "output_type": "execute_result"
    }
   ],
   "source": [
    "\n",
    "# n_features = 1\n",
    "# vocab_size=vocab_size+10000\n",
    "# Keras LSTM model\n",
    "model = Sequential()\n",
    "# model.add(Embedding(vocab_size, params['units_embedding'], input_length=max_length))\n",
    "\n",
    "model.add(LSTM(units=30, return_sequences=True, input_shape=(res.shape[0],res.shape[1])))\n",
    "\n",
    "# model.add(LSTM(units=params['units1'], return_sequences=True, input_shape=(max_length, n_features)))\n",
    "# model.add(Dropout(rate=params['rate1']))\n",
    "\n",
    "# Middle layers return sequences\n",
    "# for i in range(params['layers']-2):\n",
    "    # model.add(LSTM(units=params['units2'], return_sequences=True))\n",
    "    # model.add(Dropout(rate=params['rate2']))\n",
    "\n",
    "# Last layer doesn't return anything\n",
    "# model.add(LSTM(units=params['units3']))\n",
    "# model.add(Dropout(rate=params['rate3']))\n",
    "\n",
    "model.add(Dense(1, activation='linear'))\n",
    "model.compile(loss='mse', optimizer='adam',metrics=['mse'])\n",
    "# model\n",
    "model.summary\n",
    "# es = EarlyStopping(monitor='val_loss', mode='min', verbose=1, patience=n_patience)\n",
    "# # train model\n",
    "# result = m.fit(X_train, y_train, validation_data=(X_val, y_val), epochs=400, verbose=0, callbacks=[es])\n",
    "# # model prediction\n",
    "# y_pred = m.predict(X_test)\n",
    "\n",
    "# plotPredictReal(y_pred, y_test,tokenization,chem_notation,fileNameEncoding)"
   ]
  },
  {
   "cell_type": "code",
   "execution_count": 184,
   "id": "229259d4-fad8-4026-b67a-acfe3a07a6c4",
   "metadata": {},
   "outputs": [
    {
     "data": {
      "text/plain": [
       "<bound method Model.summary of <keras.engine.sequential.Sequential object at 0x7f97c633f130>>"
      ]
     },
     "execution_count": 184,
     "metadata": {},
     "output_type": "execute_result"
    }
   ],
   "source": [
    "n_batch = len(res)\n",
    "# n_epoch = 1000\n",
    "n_neurons = 32\n",
    "# design network\n",
    "model = Sequential()\n",
    "model.add(LSTM(n_neurons, batch_input_shape=(n_batch, res.shape[1], res.shape[2])))\n",
    "model.add(Dense(1, activation='linear'))\n",
    "model.compile(loss='mse', optimizer='adam',metrics=['mse'])\n",
    "# model\n",
    "print(model.summary)\n",
    "\n",
    "es = EarlyStopping(monitor='val_loss', mode='min', verbose=1, patience=n_patience)\n",
    "# train model\n",
    "# model.fit(X, y, epochs=1, batch_size=n_batch, verbose=1, shuffle=False)\n",
    "result = m.fit(X_train, y_train, batch_size=n_batch, validation_data=(X_val, y_val), epochs=400, verbose=1, callbacks=[es])\n",
    "# model prediction\n",
    "y_pred = m.predict(X_test)"
   ]
  },
  {
   "cell_type": "code",
   "execution_count": null,
   "id": "65c54088-0524-437c-b828-9c6061eb70db",
   "metadata": {},
   "outputs": [],
   "source": []
  },
  {
   "cell_type": "code",
   "execution_count": 155,
   "id": "47d3eba8-8f81-4350-903f-b875fd41b056",
   "metadata": {},
   "outputs": [
    {
     "data": {
      "text/plain": [
       "(array([  16.,    0.,   82.,    0.,  232.,    0.,    0.,  575.,    0.,\n",
       "         744.,    0.,    0.,  981.,    0., 1000.,    0.,    0.,  862.,\n",
       "           0.,  757.,    0.,  706.,    0.,    0.,  513.,    0.,  334.,\n",
       "           0.,    0.,  189.,    0.,   91.,    0.,    0.,   37.,    0.,\n",
       "          17.,    0.,    8.,    0.,    0.,    4.,    0.,    3.,    0.,\n",
       "           0.,    3.,    0.,    2.,    0.,    0.,    0.,    0.,    1.,\n",
       "           0.,    0.,    0.,    0.,    0.,    0.,    0.,    0.,    0.,\n",
       "           0.,    0.,    0.,    0.,    0.,    0.,    0.,    0.,    0.,\n",
       "           0.,    0.,    0.,    0.,    0.,    1.,    0.,    0.,    0.,\n",
       "           0.,    0.,    0.,    0.,    0.,    0.,    0.,    0.,    1.]),\n",
       " array([ 4.        ,  4.41111111,  4.82222222,  5.23333333,  5.64444444,\n",
       "         6.05555556,  6.46666667,  6.87777778,  7.28888889,  7.7       ,\n",
       "         8.11111111,  8.52222222,  8.93333333,  9.34444444,  9.75555556,\n",
       "        10.16666667, 10.57777778, 10.98888889, 11.4       , 11.81111111,\n",
       "        12.22222222, 12.63333333, 13.04444444, 13.45555556, 13.86666667,\n",
       "        14.27777778, 14.68888889, 15.1       , 15.51111111, 15.92222222,\n",
       "        16.33333333, 16.74444444, 17.15555556, 17.56666667, 17.97777778,\n",
       "        18.38888889, 18.8       , 19.21111111, 19.62222222, 20.03333333,\n",
       "        20.44444444, 20.85555556, 21.26666667, 21.67777778, 22.08888889,\n",
       "        22.5       , 22.91111111, 23.32222222, 23.73333333, 24.14444444,\n",
       "        24.55555556, 24.96666667, 25.37777778, 25.78888889, 26.2       ,\n",
       "        26.61111111, 27.02222222, 27.43333333, 27.84444444, 28.25555556,\n",
       "        28.66666667, 29.07777778, 29.48888889, 29.9       , 30.31111111,\n",
       "        30.72222222, 31.13333333, 31.54444444, 31.95555556, 32.36666667,\n",
       "        32.77777778, 33.18888889, 33.6       , 34.01111111, 34.42222222,\n",
       "        34.83333333, 35.24444444, 35.65555556, 36.06666667, 36.47777778,\n",
       "        36.88888889, 37.3       , 37.71111111, 38.12222222, 38.53333333,\n",
       "        38.94444444, 39.35555556, 39.76666667, 40.17777778, 40.58888889,\n",
       "        41.        ]),\n",
       " <BarContainer object of 90 artists>)"
      ]
     },
     "execution_count": 155,
     "metadata": {},
     "output_type": "execute_result"
    },
    {
     "data": {
      "image/png": "[encoded data removed]",
      "text/plain": [
       "<Figure size 432x288 with 1 Axes>"
      ]
     },
     "metadata": {
      "needs_background": "light"
     },
     "output_type": "display_data"
    }
   ],
   "source": [
    "plt.hist(x=length_arr, bins='auto', color='#0504aa', alpha=0.7,rwidth=0.85)"
   ]
  },
  {
   "cell_type": "code",
   "execution_count": 113,
   "id": "8f7555e8-73b2-43af-8298-3f708d102238",
   "metadata": {},
   "outputs": [
    {
     "name": "stdout",
     "output_type": "stream",
     "text": [
      "[[[1.   2.2  3.3 ]\n",
      "  [4.   0.55 6.  ]]\n",
      "\n",
      " [[1.1  2.   3.  ]\n",
      "  [4.5  5.   6.  ]]]\n",
      "(2, 2, 3)\n"
     ]
    }
   ],
   "source": []
  },
  {
   "cell_type": "code",
   "execution_count": null,
   "id": "828b3d75-3e56-4529-bc79-a714f96d91d9",
   "metadata": {},
   "outputs": [],
   "source": []
  },
  {
   "cell_type": "code",
   "execution_count": null,
   "id": "da0869d6-0cae-4cbc-89e5-560df4acbea0",
   "metadata": {},
   "outputs": [],
   "source": [
    "     \n",
    "        n_features = 1\n",
    "        # tady je treba to nastavit podle nejvyssiho indexu, jinak embedding vyhodi chybu\n",
    "        vocab_size=t_w+10000\n",
    "        # Keras LSTM model\n",
    "        model = Sequential()\n",
    "#         model.add(Embedding(vocab_size, 100, input_length=max_length))\n",
    "\n",
    "        # print(X_train.shape)\n",
    "        # print(X.shape[1])\n",
    "        # print(X.shape[2])   \n",
    "    # model.add(LSTM(units=30, input_shape=(X.shape[1], X.shape[2]) ))\n",
    "        # model.add(Dense(1, activation='linear'))\n",
    "        # model.compile(loss='mse', optimizer='adam',metrics=['mse'])\n",
    "\n",
    "#         list_token = list_tokens[j][:limit]\n",
    "#         max_length=lengths_lst_tokenIdxs[tokenization][j]\n",
    "#         X_train,y_train,X_val,y_val,X_test,y_test,t_w = splitData(j, list_token, ys, RANDOM_STATE)\n",
    "\n",
    "#         # zatim mam jen chemicke linearni zapisy\n",
    "#         fmin_objective = partial(objective,list_token=list_token, n_patience =  n_patience,idx=j,vocab_size = t_w ,max_length = max_length)\n",
    "        \n",
    "#         bayes_trials = Trials()\n",
    "\n",
    "#         best = fmin(fn = fmin_objective, space = space, algo = tpe.suggest, max_evals = m_e, trials = bayes_trials)#, rstate = np.random.RandomState(50))\n",
    "\n",
    "#         best_loss = bayes_trials.results[np.argmin([r['loss'] for r in bayes_trials.results])]['loss']\n",
    "#         best_params = bayes_trials.results[np.argmin([r['loss'] for r in bayes_trials.results])]['params']\n",
    "#         print('best params:\\t',best_params,'best loss:\\t',best_loss,end = '\\n')\n",
    "df.head(1)"
   ]
  },
  {
   "cell_type": "code",
   "execution_count": 13,
   "id": "5326191f-8175-4675-b1f0-7b9a2be81e03",
   "metadata": {},
   "outputs": [
    {
     "name": "stdout",
     "output_type": "stream",
     "text": [
      "(1, 10, 2)\n"
     ]
    }
   ],
   "source": [
    "from numpy import array\n",
    "data = array([\n",
    "    [0.1, 1.0],\n",
    "    [0.2, 0.9],\n",
    "    [0.3, 0.8],\n",
    "    [0.4, 0.7],\n",
    "    [0.5, 0.6],\n",
    "    [0.6, 0.5],\n",
    "    [0.7, 0.4],\n",
    "    [0.8, 0.3],\n",
    "    [0.9, 0.2],\n",
    "    [1.0, 0.1]])\n",
    "data = data.reshape(1, 10, 2)\n",
    "print(data.shape)"
   ]
  },
  {
   "cell_type": "code",
   "execution_count": 26,
   "id": "58257876-2599-4b54-99a9-6cd4e83dc0fd",
   "metadata": {},
   "outputs": [
    {
     "name": "stdout",
     "output_type": "stream",
     "text": [
      "15416\n",
      "13953\n"
     ]
    }
   ],
   "source": [
    "# list_token[0]\n",
    "# print(len(list_token[0]))\n",
    "# print(list_token[0])\n",
    "# print(list_token[1])\n",
    "# print(list_token[2])\n",
    "print(len(list_token[1]))\n",
    "print(len(list_token[2]))\n",
    "# data.reshape(len(list_token[0]), len(list_token[0][1]), n_features)"
   ]
  },
  {
   "cell_type": "code",
   "execution_count": 16,
   "id": "5fcc21c1-0f40-4bf9-8536-d58f06917b9e",
   "metadata": {},
   "outputs": [],
   "source": [
    "# nacteny list tokenu prevedu na list a pak pomoci pad_sequence na validni vstup do neuronove site\n",
    "def createListTokenOut(df, RANDOM_STATE, limit, col_names):  \n",
    "    list_tokens = []\n",
    "\n",
    "    for col_name in col_names:\n",
    "        res = df[col_name+'_tokenIndexList'].apply(lambda x: ast.literal_eval(x))\n",
    "        vector_with_padding = pad_sequences(res, maxlen=len(res[0]), padding='post', truncating='post')\n",
    "        list_tokens.append(vector_with_padding) \n",
    "    return list_tokens"
   ]
  },
  {
   "cell_type": "code",
   "execution_count": 18,
   "id": "0a460dbc-6b9c-46a1-9b9b-a5b5235dd289",
   "metadata": {},
   "outputs": [],
   "source": [
    "def builtModelParams(params,max_length,list_token,j, vocab_size):\n",
    "    n_features = 1\n",
    "    vocab_size=vocab_size+10000\n",
    "    # Keras LSTM model\n",
    "    model = Sequential()\n",
    "    model.add(Embedding(vocab_size, params['units_embedding'], input_length=max_length))\n",
    "\n",
    "    # if layers == 1:\n",
    "    #     model.add(LSTM(units=params['units'], input_shape=(max_length, n_features) ))\n",
    "    #     model.add(Dropout(rate=params['rate']))\n",
    "    # else:\n",
    "        # First layer specifies input_shape and returns sequences\n",
    "    model.add(LSTM(units=params['units1'], return_sequences=True, input_shape=(max_length, n_features)))\n",
    "    model.add(Dropout(rate=params['rate1']))\n",
    "\n",
    "    # Middle layers return sequences\n",
    "    for i in range(params['layers']-2):\n",
    "        model.add(LSTM(units=params['units2'], return_sequences=True))\n",
    "        model.add(Dropout(rate=params['rate2']))\n",
    "\n",
    "    # Last layer doesn't return anything\n",
    "    model.add(LSTM(units=params['units3']))\n",
    "    model.add(Dropout(rate=params['rate3']))\n",
    "\n",
    "    model.add(Dense(1, activation='linear'))\n",
    "    model.compile(loss='mse', optimizer='adam',metrics=['mse'])\n",
    "    return model"
   ]
  },
  {
   "cell_type": "code",
   "execution_count": 21,
   "id": "353eff15-7791-4b70-9b4f-1878a887b900",
   "metadata": {},
   "outputs": [],
   "source": [
    "def showPlot(history,linearNotation_name):\n",
    "    # plot training history\n",
    "    plt.plot(history.history['loss'])\n",
    "    plt.plot(history.history['val_loss'])\n",
    "    plt.title('model loss - '+linearNotation_name)\n",
    "    plt.ylabel('loss')\n",
    "    plt.xlabel('epoch')\n",
    "    plt.legend(['train', 'val'], loc='upper right')\n",
    "    plt.show()"
   ]
  },
  {
   "cell_type": "code",
   "execution_count": 22,
   "id": "c037f7dc-beb7-488b-9bb4-6d97bfbf4f95",
   "metadata": {},
   "outputs": [],
   "source": [
    "def plotPredictReal(predictions,y_test,tokenization,chem_notation):\n",
    "        plt.figure(figsize=(10,10))\n",
    "        plt.scatter(y_test, predictions, c='crimson')\n",
    "        p1 = max(max( predictions), max(y_test))\n",
    "        p2 = min(min( predictions), min(y_test))\n",
    "        plt.plot([p1, p2], [p1, p2], 'b-')\n",
    "        plt.title(tokenization+' '+chem_notation, fontsize=15)\n",
    "        plt.xlabel('True Values', fontsize=15)\n",
    "        plt.ylabel('Predictions', fontsize=15)\n",
    "        plt.axis('equal')\n",
    "        plt.show"
   ]
  },
  {
   "cell_type": "code",
   "execution_count": 34,
   "id": "fa9de069-8e02-40c3-8685-5f99f7cde7c1",
   "metadata": {},
   "outputs": [
    {
     "name": "stdout",
     "output_type": "stream",
     "text": [
      "\n",
      "bpe\n",
      "Epoch 1/400\n",
      "135/135 [==============================] - 13s 72ms/step - loss: 7.0120 - mse: 7.0120 - val_loss: 1.1567 - val_mse: 1.1567\n",
      "Epoch 2/400\n",
      "135/135 [==============================] - 9s 68ms/step - loss: 1.5806 - mse: 1.5806 - val_loss: 1.1691 - val_mse: 1.1691\n",
      "Epoch 3/400\n",
      "135/135 [==============================] - 9s 67ms/step - loss: 1.5687 - mse: 1.5687 - val_loss: 1.1580 - val_mse: 1.1580\n",
      "Epoch 4/400\n",
      "135/135 [==============================] - 9s 68ms/step - loss: 1.5588 - mse: 1.5588 - val_loss: 1.1556 - val_mse: 1.1556\n",
      "Epoch 5/400\n",
      "135/135 [==============================] - 9s 68ms/step - loss: 1.4732 - mse: 1.4732 - val_loss: 1.0529 - val_mse: 1.0529\n",
      "Epoch 6/400\n",
      "135/135 [==============================] - 9s 68ms/step - loss: 1.4821 - mse: 1.4821 - val_loss: 1.1497 - val_mse: 1.1497\n",
      "Epoch 7/400\n",
      "135/135 [==============================] - 9s 68ms/step - loss: 1.5003 - mse: 1.5003 - val_loss: 1.1237 - val_mse: 1.1237\n",
      "Epoch 8/400\n",
      "135/135 [==============================] - 9s 67ms/step - loss: 1.5057 - mse: 1.5057 - val_loss: 1.1506 - val_mse: 1.1506\n",
      "Epoch 9/400\n",
      "135/135 [==============================] - 9s 66ms/step - loss: 1.2921 - mse: 1.2921 - val_loss: 0.8914 - val_mse: 0.8914\n",
      "Epoch 10/400\n",
      "135/135 [==============================] - 9s 67ms/step - loss: 1.0018 - mse: 1.0018 - val_loss: 0.7288 - val_mse: 0.7288\n",
      "Epoch 11/400\n",
      "135/135 [==============================] - 9s 69ms/step - loss: 0.8562 - mse: 0.8562 - val_loss: 0.7424 - val_mse: 0.7424\n",
      "Epoch 12/400\n",
      "135/135 [==============================] - 9s 68ms/step - loss: 0.7632 - mse: 0.7632 - val_loss: 0.8012 - val_mse: 0.8012\n",
      "Epoch 13/400\n",
      "135/135 [==============================] - 9s 68ms/step - loss: 0.6871 - mse: 0.6871 - val_loss: 0.7189 - val_mse: 0.7189\n",
      "Epoch 14/400\n",
      "135/135 [==============================] - 9s 67ms/step - loss: 0.6641 - mse: 0.6641 - val_loss: 0.6876 - val_mse: 0.6876\n",
      "Epoch 15/400\n",
      "135/135 [==============================] - 9s 67ms/step - loss: 0.6415 - mse: 0.6415 - val_loss: 0.7117 - val_mse: 0.7117\n",
      "Epoch 16/400\n",
      "135/135 [==============================] - 9s 67ms/step - loss: 0.5881 - mse: 0.5881 - val_loss: 0.6979 - val_mse: 0.6979\n",
      "Epoch 17/400\n",
      "135/135 [==============================] - 9s 67ms/step - loss: 0.5892 - mse: 0.5892 - val_loss: 0.6802 - val_mse: 0.6802\n",
      "Epoch 18/400\n",
      "135/135 [==============================] - 9s 68ms/step - loss: 0.5794 - mse: 0.5794 - val_loss: 0.7231 - val_mse: 0.7231\n",
      "Epoch 19/400\n",
      "135/135 [==============================] - 9s 68ms/step - loss: 0.5534 - mse: 0.5534 - val_loss: 0.7049 - val_mse: 0.7049\n",
      "Epoch 20/400\n",
      "135/135 [==============================] - 9s 68ms/step - loss: 0.5661 - mse: 0.5661 - val_loss: 0.7078 - val_mse: 0.7078\n",
      "Epoch 21/400\n",
      "135/135 [==============================] - 9s 66ms/step - loss: 0.5226 - mse: 0.5226 - val_loss: 0.7197 - val_mse: 0.7197\n",
      "Epoch 22/400\n",
      "135/135 [==============================] - 9s 69ms/step - loss: 0.5143 - mse: 0.5143 - val_loss: 0.7159 - val_mse: 0.7159\n",
      "Epoch 23/400\n",
      "135/135 [==============================] - 9s 68ms/step - loss: 0.5191 - mse: 0.5191 - val_loss: 0.7128 - val_mse: 0.7128\n",
      "Epoch 24/400\n",
      "135/135 [==============================] - 9s 68ms/step - loss: 0.4891 - mse: 0.4891 - val_loss: 0.6860 - val_mse: 0.6860\n",
      "Epoch 25/400\n",
      "135/135 [==============================] - 9s 67ms/step - loss: 0.4890 - mse: 0.4890 - val_loss: 0.7391 - val_mse: 0.7391\n",
      "Epoch 26/400\n",
      "135/135 [==============================] - 9s 67ms/step - loss: 0.4845 - mse: 0.4845 - val_loss: 0.7214 - val_mse: 0.7214\n",
      "Epoch 27/400\n",
      "135/135 [==============================] - 9s 67ms/step - loss: 0.4912 - mse: 0.4912 - val_loss: 0.6969 - val_mse: 0.6969\n",
      "Epoch 00027: early stopping\n"
     ]
    },
    {
     "data": {
      "image/png": "[encoded data removed]",
      "text/plain": [
       "<Figure size 432x288 with 1 Axes>"
      ]
     },
     "metadata": {
      "needs_background": "light"
     },
     "output_type": "display_data"
    },
    {
     "data": {
      "image/png": "[encoded data removed]",
      "text/plain": [
       "<Figure size 720x720 with 1 Axes>"
      ]
     },
     "metadata": {
      "needs_background": "light"
     },
     "output_type": "display_data"
    }
   ],
   "source": [
    "lengths_lst_tokenIdxs = {\n",
    "    'bpe':[30] }\n",
    "\n",
    "tokenization = 'bpe'\n",
    "# m_e=3\n",
    "n_patience = 10\n",
    "RANDOM_STATE=42\n",
    "j=0\n",
    "limit =400\n",
    "print('\\n'+tokenization)\n",
    "df = pd.read_csv('../data/VEGF2_ChEMBL28_tokenizationBPE_oneHotEncoding_listTokensIds_cutListTokensIds.csv',sep=',')\n",
    "\n",
    "ys = df['value']#[:limit]\n",
    "linearNotation_names = ['canonical_smiles']#,'sln','deep_smiles','selfies','inchi']\n",
    "list_tokens = createListTokenOut(df, RANDOM_STATE, limit, linearNotation_names)\n",
    "\n",
    "chem_notation = 'canonical_smiles' \n",
    "# j je chemicky linearni zapis, limit je # radku kolik vezmeme (pro vyzkouseni beru jen 20)\n",
    "list_token = list_tokens[j]#[:limit]\n",
    "max_length=lengths_lst_tokenIdxs[tokenization][j]\n",
    "X_train,y_train,X_val,y_val,X_test,y_test,t_w = splitData(j, list_token, ys, RANDOM_STATE)\n",
    "\n",
    "best_params = {'layers': 2, 'rate1': 0.11695302548420733, 'rate2': 0.06712870390571762, 'rate3': 0.14546594628839932, 'units1': 45, 'units2': 120, 'units3': 30, 'units_embedding': 105}\n",
    "m = builtModelParams(best_params,max_length,list_token,j,t_w)\n",
    "\n",
    "es = EarlyStopping(monitor='val_loss', mode='min', verbose=1, patience=n_patience)\n",
    "# train model\n",
    "result = m.fit(X_train, y_train, validation_data=(X_val, y_val), epochs=400, verbose=1, callbacks=[es])\n",
    "# model prediction\n",
    "y_pred = m.predict(X_test)\n",
    "\n",
    "showPlot(result,chem_notation)\n",
    "\n",
    "plotPredictReal(y_pred, y_test,tokenization,chem_notation)"
   ]
  },
  {
   "cell_type": "code",
   "execution_count": 36,
   "id": "477cb9c6-7bd5-4bfb-823f-20300bf1dd91",
   "metadata": {},
   "outputs": [
    {
     "name": "stdout",
     "output_type": "stream",
     "text": [
      "\n",
      "bpe\n"
     ]
    },
    {
     "data": {
      "text/plain": [
       "(array([ 43.,  25.,  26.,  43.,  32., 128., 134., 176., 151., 150., 251.,\n",
       "        239., 253., 250., 257., 289., 227., 293., 264., 249., 253., 170.,\n",
       "        129.,  85.,  69.,  54.,  25.,  19.,   3.,   8.]),\n",
       " array([4.   , 4.194, 4.388, 4.582, 4.776, 4.97 , 5.164, 5.358, 5.552,\n",
       "        5.746, 5.94 , 6.134, 6.328, 6.522, 6.716, 6.91 , 7.104, 7.298,\n",
       "        7.492, 7.686, 7.88 , 8.074, 8.268, 8.462, 8.656, 8.85 , 9.044,\n",
       "        9.238, 9.432, 9.626, 9.82 ]),\n",
       " <BarContainer object of 30 artists>)"
      ]
     },
     "execution_count": 36,
     "metadata": {},
     "output_type": "execute_result"
    },
    {
     "data": {
      "image/png": "[encoded data removed]",
      "text/plain": [
       "<Figure size 432x288 with 1 Axes>"
      ]
     },
     "metadata": {
      "needs_background": "light"
     },
     "output_type": "display_data"
    }
   ],
   "source": [
    "lengths_lst_tokenIdxs = {\n",
    "    'bpe':[30] }\n",
    "\n",
    "tokenization = 'bpe'\n",
    "# m_e=3\n",
    "n_patience = 10\n",
    "RANDOM_STATE=42\n",
    "j=0\n",
    "limit =400\n",
    "print('\\n'+tokenization)\n",
    "df = pd.read_csv('../data/VEGF2_ChEMBL28_tokenizationBPE_oneHotEncoding_listTokensIds_cutListTokensIds.csv',sep=',')\n",
    "\n",
    "ys = df['value']#[:limit]\n",
    "linearNotation_names = ['canonical_smiles']#,'sln','deep_smiles','selfies','inchi']\n",
    "list_tokens = createListTokenOut(df, RANDOM_STATE, limit, linearNotation_names)\n",
    "\n",
    "chem_notation = 'canonical_smiles' \n",
    "# j je chemicky linearni zapis, limit je # radku kolik vezmeme (pro vyzkouseni beru jen 20)\n",
    "list_token = list_tokens[j]#[:limit]\n",
    "max_length=lengths_lst_tokenIdxs[tokenization][j]\n",
    "X_train,y_train,X_val,y_val,X_test,y_test,t_w = splitData(j, list_token, ys, RANDOM_STATE)\n",
    "\n",
    "\n",
    "plt.hist(x=y_train, bins='auto', color='#0504aa', alpha=0.7,rwidth=0.85)"
   ]
  },
  {
   "cell_type": "markdown",
   "id": "874333de-915b-4963-960a-28ed5b0cff7d",
   "metadata": {},
   "source": [
    "# SNL"
   ]
  },
  {
   "cell_type": "code",
   "execution_count": 29,
   "id": "da7adbe9-c1ba-4013-854d-b1e381aa3440",
   "metadata": {},
   "outputs": [
    {
     "name": "stdout",
     "output_type": "stream",
     "text": [
      "\n",
      "bpe\n",
      "Epoch 1/4000\n",
      "135/135 [==============================] - 39s 256ms/step - loss: 4.2645 - mse: 4.2645 - val_loss: 1.1578 - val_mse: 1.1578\n",
      "Epoch 2/4000\n",
      "135/135 [==============================] - 34s 250ms/step - loss: 1.5723 - mse: 1.5723 - val_loss: 1.1547 - val_mse: 1.1547\n",
      "Epoch 3/4000\n",
      "135/135 [==============================] - 34s 254ms/step - loss: 1.5827 - mse: 1.5827 - val_loss: 1.1581 - val_mse: 1.1581\n",
      "Epoch 4/4000\n",
      "135/135 [==============================] - 35s 256ms/step - loss: 1.5312 - mse: 1.5312 - val_loss: 1.1633 - val_mse: 1.1633\n",
      "Epoch 5/4000\n",
      "135/135 [==============================] - 34s 253ms/step - loss: 1.5134 - mse: 1.5134 - val_loss: 1.1501 - val_mse: 1.1501\n",
      "Epoch 6/4000\n",
      "135/135 [==============================] - 35s 256ms/step - loss: 1.4749 - mse: 1.4749 - val_loss: 1.1223 - val_mse: 1.1223\n",
      "Epoch 7/4000\n",
      "135/135 [==============================] - 34s 254ms/step - loss: 1.4330 - mse: 1.4330 - val_loss: 1.0840 - val_mse: 1.0840\n",
      "Epoch 8/4000\n",
      "135/135 [==============================] - 35s 257ms/step - loss: 1.3597 - mse: 1.3597 - val_loss: 1.0215 - val_mse: 1.0215\n",
      "Epoch 9/4000\n",
      "135/135 [==============================] - 34s 255ms/step - loss: 1.2844 - mse: 1.2844 - val_loss: 0.9603 - val_mse: 0.9603\n",
      "Epoch 10/4000\n",
      "135/135 [==============================] - 34s 255ms/step - loss: 1.2488 - mse: 1.2488 - val_loss: 0.9492 - val_mse: 0.9492\n",
      "Epoch 11/4000\n",
      "135/135 [==============================] - 35s 256ms/step - loss: 1.1921 - mse: 1.1921 - val_loss: 1.0525 - val_mse: 1.0525\n",
      "Epoch 12/4000\n",
      "135/135 [==============================] - 34s 255ms/step - loss: 1.2144 - mse: 1.2144 - val_loss: 0.9331 - val_mse: 0.9331\n",
      "Epoch 13/4000\n",
      "135/135 [==============================] - 35s 256ms/step - loss: 1.1581 - mse: 1.1581 - val_loss: 0.9063 - val_mse: 0.9063\n",
      "Epoch 14/4000\n",
      "135/135 [==============================] - 34s 254ms/step - loss: 1.1160 - mse: 1.1160 - val_loss: 0.9153 - val_mse: 0.9153\n",
      "Epoch 15/4000\n",
      "135/135 [==============================] - 34s 254ms/step - loss: 1.1167 - mse: 1.1167 - val_loss: 0.9063 - val_mse: 0.9063\n",
      "Epoch 16/4000\n",
      "135/135 [==============================] - 35s 257ms/step - loss: 1.0958 - mse: 1.0958 - val_loss: 0.9172 - val_mse: 0.9172\n",
      "Epoch 17/4000\n",
      "135/135 [==============================] - 35s 256ms/step - loss: 1.1988 - mse: 1.1988 - val_loss: 1.0424 - val_mse: 1.0424\n",
      "Epoch 18/4000\n",
      "135/135 [==============================] - 35s 257ms/step - loss: 1.1242 - mse: 1.1242 - val_loss: 0.9613 - val_mse: 0.9613\n",
      "Epoch 19/4000\n",
      "135/135 [==============================] - 35s 256ms/step - loss: 1.1037 - mse: 1.1037 - val_loss: 0.9493 - val_mse: 0.9493\n",
      "Epoch 20/4000\n",
      "135/135 [==============================] - 35s 257ms/step - loss: 1.1096 - mse: 1.1096 - val_loss: 1.0206 - val_mse: 1.0206\n",
      "Epoch 21/4000\n",
      "135/135 [==============================] - 34s 255ms/step - loss: 1.0948 - mse: 1.0948 - val_loss: 0.9031 - val_mse: 0.9031\n",
      "Epoch 22/4000\n",
      "135/135 [==============================] - 34s 255ms/step - loss: 1.0465 - mse: 1.0465 - val_loss: 0.9692 - val_mse: 0.9692\n",
      "Epoch 23/4000\n",
      "135/135 [==============================] - 35s 257ms/step - loss: 1.0640 - mse: 1.0640 - val_loss: 0.8868 - val_mse: 0.8868\n",
      "Epoch 24/4000\n",
      "135/135 [==============================] - 35s 257ms/step - loss: 1.1656 - mse: 1.1656 - val_loss: 0.8798 - val_mse: 0.8798\n",
      "Epoch 25/4000\n",
      "135/135 [==============================] - 34s 255ms/step - loss: 1.0443 - mse: 1.0443 - val_loss: 0.9060 - val_mse: 0.9060\n",
      "Epoch 26/4000\n",
      "135/135 [==============================] - 34s 255ms/step - loss: 1.0344 - mse: 1.0344 - val_loss: 0.9139 - val_mse: 0.9139\n",
      "Epoch 27/4000\n",
      "135/135 [==============================] - 35s 258ms/step - loss: 1.0556 - mse: 1.0556 - val_loss: 0.9568 - val_mse: 0.9568\n",
      "Epoch 28/4000\n",
      "135/135 [==============================] - 35s 256ms/step - loss: 1.0664 - mse: 1.0664 - val_loss: 0.8900 - val_mse: 0.8900\n",
      "Epoch 29/4000\n",
      "135/135 [==============================] - 35s 256ms/step - loss: 1.0132 - mse: 1.0132 - val_loss: 0.9658 - val_mse: 0.9658\n",
      "Epoch 30/4000\n",
      "135/135 [==============================] - 35s 256ms/step - loss: 1.0490 - mse: 1.0490 - val_loss: 0.8785 - val_mse: 0.8785\n",
      "Epoch 31/4000\n",
      "135/135 [==============================] - 34s 254ms/step - loss: 1.0048 - mse: 1.0048 - val_loss: 0.8919 - val_mse: 0.8919\n",
      "Epoch 32/4000\n",
      "135/135 [==============================] - 35s 258ms/step - loss: 0.9907 - mse: 0.9907 - val_loss: 0.9693 - val_mse: 0.9693\n",
      "Epoch 33/4000\n",
      "135/135 [==============================] - 35s 258ms/step - loss: 0.9934 - mse: 0.9934 - val_loss: 0.9037 - val_mse: 0.9037\n",
      "Epoch 34/4000\n",
      "135/135 [==============================] - 35s 257ms/step - loss: 0.9910 - mse: 0.9910 - val_loss: 0.8590 - val_mse: 0.8590\n",
      "Epoch 35/4000\n",
      "135/135 [==============================] - 35s 256ms/step - loss: 0.9740 - mse: 0.9740 - val_loss: 0.9048 - val_mse: 0.9048\n",
      "Epoch 36/4000\n",
      "135/135 [==============================] - 35s 258ms/step - loss: 0.9876 - mse: 0.9876 - val_loss: 0.9145 - val_mse: 0.9145\n",
      "Epoch 37/4000\n",
      "135/135 [==============================] - 35s 256ms/step - loss: 0.9621 - mse: 0.9621 - val_loss: 0.9083 - val_mse: 0.9083\n",
      "Epoch 38/4000\n",
      "135/135 [==============================] - 34s 256ms/step - loss: 0.9489 - mse: 0.9489 - val_loss: 0.9017 - val_mse: 0.9017\n",
      "Epoch 39/4000\n",
      "135/135 [==============================] - 35s 257ms/step - loss: 0.9777 - mse: 0.9777 - val_loss: 0.8743 - val_mse: 0.8743\n",
      "Epoch 40/4000\n",
      "135/135 [==============================] - 35s 258ms/step - loss: 0.9346 - mse: 0.9346 - val_loss: 0.9326 - val_mse: 0.9326\n",
      "Epoch 41/4000\n",
      "135/135 [==============================] - 35s 257ms/step - loss: 0.9644 - mse: 0.9644 - val_loss: 0.9179 - val_mse: 0.9179\n",
      "Epoch 42/4000\n",
      "135/135 [==============================] - 35s 257ms/step - loss: 0.9256 - mse: 0.9256 - val_loss: 0.8939 - val_mse: 0.8939\n",
      "Epoch 43/4000\n",
      "135/135 [==============================] - 35s 257ms/step - loss: 0.9284 - mse: 0.9284 - val_loss: 0.9031 - val_mse: 0.9031\n",
      "Epoch 44/4000\n",
      "135/135 [==============================] - 35s 257ms/step - loss: 0.9299 - mse: 0.9299 - val_loss: 0.9033 - val_mse: 0.9033\n",
      "Epoch 00044: early stopping\n"
     ]
    },
    {
     "data": {
      "image/png": "[encoded data removed]",
      "text/plain": [
       "<Figure size 432x288 with 1 Axes>"
      ]
     },
     "metadata": {
      "needs_background": "light"
     },
     "output_type": "display_data"
    },
    {
     "data": {
      "image/png": "[encoded data removed]",
      "text/plain": [
       "<Figure size 720x720 with 1 Axes>"
      ]
     },
     "metadata": {
      "needs_background": "light"
     },
     "output_type": "display_data"
    }
   ],
   "source": [
    "lengths_lst_tokenIdxs = {\n",
    "    'bpe':[65],\n",
    "     }\n",
    "\n",
    "tokenization = 'bpe'\n",
    "# m_e=3\n",
    "n_patience = 10\n",
    "RANDOM_STATE=42\n",
    "j=0\n",
    "limit =400\n",
    "print('\\n'+tokenization)\n",
    "df = pd.read_csv('../data/VEGF2_ChEMBL28_tokenizationBPE_oneHotEncoding_listTokensIds_cutListTokensIds.csv',sep=',')\n",
    "\n",
    "ys = df['value']#[:limit]\n",
    "linearNotation_names = ['sln']#,'sln','deep_smiles','selfies','inchi']\n",
    "list_tokens = createListTokenOut(df, RANDOM_STATE, limit, linearNotation_names)\n",
    "\n",
    "chem_notation = 'snl' \n",
    "# j je chemicky linearni zapis, limit je # radku kolik vezmeme (pro vyzkouseni beru jen 20)\n",
    "list_token = list_tokens[j]#[:limit]\n",
    "max_length=lengths_lst_tokenIdxs[tokenization][j]\n",
    "X_train,y_train,X_val,y_val,X_test,y_test,t_w = splitData(j, list_token, ys, RANDOM_STATE)\n",
    "\n",
    "best_params = {'layers': 3, 'rate1': 0.13347645342762127, 'rate2': 0.011560160523319984, 'rate3': 0.34927683781734387, 'units1': 75, 'units2': 110, 'units3': 105, 'units_embedding': 20}\n",
    "m = builtModelParams(best_params,max_length,list_token,j,t_w)\n",
    "\n",
    "es = EarlyStopping(monitor='val_loss', mode='min', verbose=1, patience=n_patience)\n",
    "# train model\n",
    "result = m.fit(X_train, y_train, validation_data=(X_val, y_val), epochs=4000, verbose=1, callbacks=[es])\n",
    "# model prediction\n",
    "y_pred = m.predict(X_test)\n",
    "\n",
    "showPlot(result,chem_notation)\n",
    "\n",
    "plotPredictReal(y_pred, y_test,tokenization,chem_notation)"
   ]
  },
  {
   "cell_type": "code",
   "execution_count": 32,
   "id": "e8c0d0e6-3e7d-40b6-a9a4-a866c454743c",
   "metadata": {},
   "outputs": [
    {
     "data": {
      "text/plain": [
       "{'whiskers': [<matplotlib.lines.Line2D at 0x7f98e63973a0>,\n",
       "  <matplotlib.lines.Line2D at 0x7f98e6397670>],\n",
       " 'caps': [<matplotlib.lines.Line2D at 0x7f98e6397a00>,\n",
       "  <matplotlib.lines.Line2D at 0x7f98e6397d90>],\n",
       " 'boxes': [<matplotlib.lines.Line2D at 0x7f98e638cf10>],\n",
       " 'medians': [<matplotlib.lines.Line2D at 0x7f98e629b7f0>],\n",
       " 'fliers': [<matplotlib.lines.Line2D at 0x7f98e629b760>],\n",
       " 'means': []}"
      ]
     },
     "execution_count": 32,
     "metadata": {},
     "output_type": "execute_result"
    },
    {
     "data": {
      "image/png": "[encoded data removed]",
      "text/plain": [
       "<Figure size 432x288 with 1 Axes>"
      ]
     },
     "metadata": {
      "needs_background": "light"
     },
     "output_type": "display_data"
    }
   ],
   "source": [
    "plt.boxplot(df['value'])"
   ]
  },
  {
   "cell_type": "code",
   "execution_count": 35,
   "id": "daccd6b3-2db1-45f0-9b80-b11ffa70592c",
   "metadata": {},
   "outputs": [
    {
     "data": {
      "text/plain": [
       "(array([ 43.,  25.,  26.,  43.,  32., 128., 134., 176., 151., 150., 251.,\n",
       "        239., 253., 250., 257., 289., 227., 293., 264., 249., 253., 170.,\n",
       "        129.,  85.,  69.,  54.,  25.,  19.,   3.,   8.]),\n",
       " array([4.   , 4.194, 4.388, 4.582, 4.776, 4.97 , 5.164, 5.358, 5.552,\n",
       "        5.746, 5.94 , 6.134, 6.328, 6.522, 6.716, 6.91 , 7.104, 7.298,\n",
       "        7.492, 7.686, 7.88 , 8.074, 8.268, 8.462, 8.656, 8.85 , 9.044,\n",
       "        9.238, 9.432, 9.626, 9.82 ]),\n",
       " <BarContainer object of 30 artists>)"
      ]
     },
     "execution_count": 35,
     "metadata": {},
     "output_type": "execute_result"
    },
    {
     "data": {
      "image/png": "[encoded data removed]",
      "text/plain": [
       "<Figure size 432x288 with 1 Axes>"
      ]
     },
     "metadata": {
      "needs_background": "light"
     },
     "output_type": "display_data"
    }
   ],
   "source": [
    "plt.hist(x=y_train, bins='auto', color='#0504aa', alpha=0.7,rwidth=0.85)"
   ]
  },
  {
   "cell_type": "code",
   "execution_count": null,
   "id": "9250ded1-44c4-4725-8643-0c2707d9db18",
   "metadata": {},
   "outputs": [],
   "source": []
  },
  {
   "cell_type": "code",
   "execution_count": null,
   "id": "f275f4e9-f92b-4542-95da-12d5a9ff9fde",
   "metadata": {},
   "outputs": [],
   "source": []
  },
  {
   "cell_type": "code",
   "execution_count": null,
   "id": "fbd5b3a7-d175-457a-8ac1-0780286729cb",
   "metadata": {},
   "outputs": [],
   "source": []
  },
  {
   "cell_type": "code",
   "execution_count": null,
   "id": "47ceb803-c924-4336-a774-5e309de41a85",
   "metadata": {},
   "outputs": [],
   "source": []
  },
  {
   "cell_type": "code",
   "execution_count": null,
   "id": "129fc937-dbc1-48fe-b765-0606789143a0",
   "metadata": {},
   "outputs": [],
   "source": []
  },
  {
   "cell_type": "code",
   "execution_count": null,
   "id": "889d27c4-1bd3-4fde-bc29-9922c16dc6bf",
   "metadata": {},
   "outputs": [],
   "source": []
  },
  {
   "cell_type": "code",
   "execution_count": null,
   "id": "b3642f0a-2001-4ca1-841a-05d69cac7eb1",
   "metadata": {},
   "outputs": [],
   "source": []
  },
  {
   "cell_type": "code",
   "execution_count": null,
   "id": "d6dfab4c-233f-40b7-97ec-6bea1cd74b54",
   "metadata": {},
   "outputs": [],
   "source": []
  },
  {
   "cell_type": "code",
   "execution_count": null,
   "id": "d64a361e-06cf-45e8-bb2f-19bc882ed4b2",
   "metadata": {},
   "outputs": [],
   "source": []
  },
  {
   "cell_type": "code",
   "execution_count": null,
   "id": "768927da-5a12-46dd-8f41-85d550344dc9",
   "metadata": {},
   "outputs": [],
   "source": []
  }
 ],
 "metadata": {
  "kernelspec": {
   "display_name": "Python 3 (ipykernel)",
   "language": "python",
   "name": "python3"
  },
  "language_info": {
   "codemirror_mode": {
    "name": "ipython",
    "version": 3
   },
   "file_extension": ".py",
   "mimetype": "text/x-python",
   "name": "python",
   "nbconvert_exporter": "python",
   "pygments_lexer": "ipython3",
   "version": "3.9.7"
  }
 },
 "nbformat": 4,
 "nbformat_minor": 5
}
