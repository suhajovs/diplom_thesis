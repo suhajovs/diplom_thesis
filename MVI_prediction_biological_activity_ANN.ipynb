{
 "cells": [
  {
   "cell_type": "markdown",
   "metadata": {
    "id": "QVX--7OvCFhi"
   },
   "source": [
    "Import libraries"
   ]
  },
  {
   "cell_type": "code",
   "execution_count": 2,
   "metadata": {
    "colab": {
     "base_uri": "https://localhost:8080/"
    },
    "id": "zD265uc9cA0t",
    "outputId": "72daf5ac-e294-485e-fd48-eb4077533f94"
   },
   "outputs": [],
   "source": [
    "# from google.colab import drive\n",
    "# drive.mount('/content/drive')"
   ]
  },
  {
   "cell_type": "code",
   "execution_count": 3,
   "metadata": {
    "colab": {
     "base_uri": "https://localhost:8080/"
    },
    "id": "tE1vEkxGeStj",
    "outputId": "d8052fc2-194a-4ae5-e684-fd921f6203b5"
   },
   "outputs": [],
   "source": [
    "# !pip install tensorflow-gpu"
   ]
  },
  {
   "cell_type": "code",
   "execution_count": 115,
   "metadata": {
    "colab": {
     "base_uri": "https://localhost:8080/"
    },
    "id": "dTNnoJDieXiP",
    "outputId": "91dee380-5a0e-46d5-e2dc-3ccbf96390f6"
   },
   "outputs": [
    {
     "name": "stdout",
     "output_type": "stream",
     "text": [
      "Fri Dec  3 12:54:31 2021       \n",
      "+-----------------------------------------------------------------------------+\n",
      "| NVIDIA-SMI 465.19.01    Driver Version: 465.19.01    CUDA Version: 11.3     |\n",
      "|-------------------------------+----------------------+----------------------+\n",
      "| GPU  Name        Persistence-M| Bus-Id        Disp.A | Volatile Uncorr. ECC |\n",
      "| Fan  Temp  Perf  Pwr:Usage/Cap|         Memory-Usage | GPU-Util  Compute M. |\n",
      "|                               |                      |               MIG M. |\n",
      "|===============================+======================+======================|\n",
      "|   0  NVIDIA GeForce ...  On   | 00000000:22:00.0 Off |                  N/A |\n",
      "|100%   26C    P8    26W / 250W |      1MiB / 11019MiB |      0%      Default |\n",
      "|                               |                      |                  N/A |\n",
      "+-------------------------------+----------------------+----------------------+\n",
      "                                                                               \n",
      "+-----------------------------------------------------------------------------+\n",
      "| Processes:                                                                  |\n",
      "|  GPU   GI   CI        PID   Type   Process name                  GPU Memory |\n",
      "|        ID   ID                                                   Usage      |\n",
      "|=============================================================================|\n",
      "|  No running processes found                                                 |\n",
      "+-----------------------------------------------------------------------------+\n"
     ]
    }
   ],
   "source": [
    "!nvidia-smi"
   ]
  },
  {
   "cell_type": "code",
   "execution_count": 141,
   "metadata": {
    "id": "CmAlt0wZB83r"
   },
   "outputs": [],
   "source": [
    "# keras module for building LSTM \n",
    "from tensorflow.keras.preprocessing.sequence import pad_sequences\n",
    "from tensorflow.keras.layers import Embedding, LSTM, Dense, Dropout, Bidirectional, SpatialDropout1D\n",
    "from keras.preprocessing.text import Tokenizer\n",
    "from keras.callbacks import EarlyStopping\n",
    "from keras.models import Sequential\n",
    "import keras.utils as ku \n",
    "from sklearn.model_selection import train_test_split\n",
    "\n",
    "from tensorflow import keras\n",
    "from tensorflow.keras import layers\n",
    "import tensorflow\n",
    "from keras import models \n",
    "# from tensorflow.keras.layers import Input, Embedding, LSTM, \n",
    "\n",
    "from keras.callbacks import EarlyStopping\n",
    "from keras.callbacks import ModelCheckpoint\n",
    "\n",
    "import pandas as pd\n",
    "import numpy as np\n",
    "import string, os \n",
    "import math\n",
    "from matplotlib import pyplot as plt\n",
    "\n",
    "import ast\n",
    "from tensorflow.keras.preprocessing.sequence import pad_sequences\n",
    "import itertools\n",
    "\n",
    "import warnings\n",
    "warnings.filterwarnings(\"ignore\")\n",
    "warnings.simplefilter(action='ignore', category=FutureWarning)\n"
   ]
  },
  {
   "cell_type": "markdown",
   "metadata": {
    "id": "uW_gX4swI8ir"
   },
   "source": [
    "# Load data\n",
    "- tokenizaci jsem udelala vedle, proze jsem to mela uz udelany vedle"
   ]
  },
  {
   "cell_type": "markdown",
   "metadata": {
    "id": "9_bNXIKRcYU7"
   },
   "source": [
    "### BPE\n",
    "- list tokens id"
   ]
  },
  {
   "cell_type": "code",
   "execution_count": 117,
   "metadata": {
    "colab": {
     "base_uri": "https://localhost:8080/",
     "height": 573
    },
    "id": "XC_ETYpye1KT",
    "outputId": "180096d4-5d21-4f35-bf9e-a92fe2e475f2"
   },
   "outputs": [
    {
     "data": {
      "text/html": [
       "<div>\n",
       "<style scoped>\n",
       "    .dataframe tbody tr th:only-of-type {\n",
       "        vertical-align: middle;\n",
       "    }\n",
       "\n",
       "    .dataframe tbody tr th {\n",
       "        vertical-align: top;\n",
       "    }\n",
       "\n",
       "    .dataframe thead th {\n",
       "        text-align: right;\n",
       "    }\n",
       "</style>\n",
       "<table border=\"1\" class=\"dataframe\">\n",
       "  <thead>\n",
       "    <tr style=\"text-align: right;\">\n",
       "      <th></th>\n",
       "      <th>canonical_smiles</th>\n",
       "      <th>value</th>\n",
       "      <th>sln</th>\n",
       "      <th>deep_smiles</th>\n",
       "      <th>selfies</th>\n",
       "      <th>inchi</th>\n",
       "      <th>canonical_smiles_BPE_encoding</th>\n",
       "      <th>sln_BPE_encoding</th>\n",
       "      <th>deep_smiles_BPE_encoding</th>\n",
       "      <th>selfies_BPE_encoding</th>\n",
       "      <th>inchi_BPE_encoding</th>\n",
       "      <th>canonical_smiles_BPE_encoding_ids</th>\n",
       "      <th>sln_BPE_encoding_ids</th>\n",
       "      <th>deep_smiles_BPE_encoding_ids</th>\n",
       "      <th>selfies_BPE_encoding_ids</th>\n",
       "      <th>inchi_BPE_encoding_ids</th>\n",
       "    </tr>\n",
       "  </thead>\n",
       "  <tbody>\n",
       "    <tr>\n",
       "      <th>0</th>\n",
       "      <td>^Br.COc1cc(OC)cc(N(CCP(=O)(O)O)c2ccc3ncc(-c4cn...</td>\n",
       "      <td>7.32</td>\n",
       "      <td>^BrH$</td>\n",
       "      <td>^Br.COcccOC))ccNCCP=O)O)O))))ccccncc-ccnnC)c5)...</td>\n",
       "      <td>^[Br].[C][O][C][=C][C][Branch1_1][Ring1][O][C]...</td>\n",
       "      <td>^InChI=1S/C22H24N5O5P.BrH/c1-26-14-15(12-24-26...</td>\n",
       "      <td>Encoding(num_tokens=31, attributes=[ids, type_...</td>\n",
       "      <td>Encoding(num_tokens=3, attributes=[ids, type_i...</td>\n",
       "      <td>Encoding(num_tokens=25, attributes=[ids, type_...</td>\n",
       "      <td>Encoding(num_tokens=119, attributes=[ids, type...</td>\n",
       "      <td>Encoding(num_tokens=109, attributes=[ids, type...</td>\n",
       "      <td>[61, 313, 13, 290, 7, 274, 8, 256, 7, 45, 7, 2...</td>\n",
       "      <td>[61, 824, 3]</td>\n",
       "      <td>[61, 312, 13, 400, 256, 3928, 28, 46, 8, 46, 8...</td>\n",
       "      <td>[276, 258, 289, 34, 256, 46, 256, 34, 257, 34,...</td>\n",
       "      <td>[61, 282, 28, 278, 14, 3948, 13, 3064, 14, 288...</td>\n",
       "    </tr>\n",
       "    <tr>\n",
       "      <th>1</th>\n",
       "      <td>^Brc1ccc(-c2nc3ccc(Nc4ccnc5ccccc45)cc3[nH]2)cc1$</td>\n",
       "      <td>6.75</td>\n",
       "      <td>^BrC[5]=CHCH=C(C[4]=NC[3]=CHCH=C(NHC[1]=CHCH=N...</td>\n",
       "      <td>^Brcccc-cnccccNcccncccccc%106)))))))))))cc6[nH...</td>\n",
       "      <td>^[Br][C][=C][C][=C][Branch2_1][Ring1][S][C][=N...</td>\n",
       "      <td>^InChI=1S/C22H15BrN4/c23-15-7-5-14(6-8-15)22-2...</td>\n",
       "      <td>Encoding(num_tokens=15, attributes=[ids, type_...</td>\n",
       "      <td>Encoding(num_tokens=55, attributes=[ids, type_...</td>\n",
       "      <td>Encoding(num_tokens=15, attributes=[ids, type_...</td>\n",
       "      <td>Encoding(num_tokens=89, attributes=[ids, type_...</td>\n",
       "      <td>Encoding(num_tokens=87, attributes=[ids, type_...</td>\n",
       "      <td>[61, 2441, 266, 731, 7, 1096, 8, 281, 58, 278,...</td>\n",
       "      <td>[61, 607, 58, 20, 257, 259, 28, 34, 7, 34, 58,...</td>\n",
       "      <td>[61, 2427, 12, 977, 4, 308, 289, 264, 58, 279,...</td>\n",
       "      <td>[276, 258, 256, 34, 257, 34, 256, 34, 257, 34,...</td>\n",
       "      <td>[61, 282, 28, 278, 14, 6300, 14, 402, 12, 259,...</td>\n",
       "    </tr>\n",
       "    <tr>\n",
       "      <th>2</th>\n",
       "      <td>^Brc1ccc(-c2nc3ccc(Nc4ncnc5ccccc45)cc3[nH]2)cc1$</td>\n",
       "      <td>6.42</td>\n",
       "      <td>^BrC[5]=CHCH=C(C[4]=NC[3]=CHCH=C(NHC[1]=NCH=NC...</td>\n",
       "      <td>^Brcccc-cnccccNcncncccccc%106)))))))))))cc6[nH...</td>\n",
       "      <td>^[Br][C][=C][C][=C][Branch2_1][Ring1][S][C][=N...</td>\n",
       "      <td>^InChI=1S/C21H14BrN5/c22-14-7-5-13(6-8-14)20-2...</td>\n",
       "      <td>Encoding(num_tokens=15, attributes=[ids, type_...</td>\n",
       "      <td>Encoding(num_tokens=55, attributes=[ids, type_...</td>\n",
       "      <td>Encoding(num_tokens=15, attributes=[ids, type_...</td>\n",
       "      <td>Encoding(num_tokens=89, attributes=[ids, type_...</td>\n",
       "      <td>Encoding(num_tokens=89, attributes=[ids, type_...</td>\n",
       "      <td>[61, 2441, 266, 731, 7, 1053, 8, 281, 58, 278,...</td>\n",
       "      <td>[61, 607, 58, 20, 257, 259, 28, 34, 7, 34, 58,...</td>\n",
       "      <td>[61, 2427, 12, 912, 4, 308, 289, 264, 58, 279,...</td>\n",
       "      <td>[276, 258, 256, 34, 257, 34, 256, 34, 257, 34,...</td>\n",
       "      <td>[61, 282, 28, 278, 14, 4227, 14, 396, 12, 260,...</td>\n",
       "    </tr>\n",
       "    <tr>\n",
       "      <th>3</th>\n",
       "      <td>^Brc1cccc(Nc2ncc(-c3ccccc3)s2)n1$</td>\n",
       "      <td>7.85</td>\n",
       "      <td>^BrC[3]=CHCH=CHC(NHC[2]=NCH=C(C[1]=CHCH=CHCH=C...</td>\n",
       "      <td>^BrcccccNcncc-cccccc6))))))s5))))))n6$</td>\n",
       "      <td>^[Br][C][=C][C][=C][C][Branch2_1][Ring1][Ring1...</td>\n",
       "      <td>^InChI=1S/C14H10BrN3S/c15-12-7-4-8-13(17-12)18...</td>\n",
       "      <td>Encoding(num_tokens=11, attributes=[ids, type_...</td>\n",
       "      <td>Encoding(num_tokens=37, attributes=[ids, type_...</td>\n",
       "      <td>Encoding(num_tokens=9, attributes=[ids, type_i...</td>\n",
       "      <td>Encoding(num_tokens=63, attributes=[ids, type_...</td>\n",
       "      <td>Encoding(num_tokens=63, attributes=[ids, type_...</td>\n",
       "      <td>[61, 3248, 7, 434, 266, 357, 8, 401, 8, 284, 3]</td>\n",
       "      <td>[61, 607, 58, 18, 257, 259, 28, 264, 7, 263, 5...</td>\n",
       "      <td>[61, 3503, 12, 277, 265, 343, 265, 301, 3]</td>\n",
       "      <td>[276, 258, 256, 34, 257, 34, 256, 34, 257, 34,...</td>\n",
       "      <td>[61, 282, 28, 278, 14, 6295, 14, 752, 12, 264,...</td>\n",
       "    </tr>\n",
       "    <tr>\n",
       "      <th>4</th>\n",
       "      <td>^Brc1cnc(Nc2ccccn2)s1$</td>\n",
       "      <td>7.15</td>\n",
       "      <td>^BrC[2]=CHN=C(NHC[1]=CHCH=CHCH=N@1)S@2$</td>\n",
       "      <td>^BrccncNcccccn6)))))))s5$</td>\n",
       "      <td>^[Br][C][=C][N][=C][Branch1_1][Branch2_3][N][C...</td>\n",
       "      <td>^InChI=1S/C8H6BrN3S/c9-6-5-11-8(13-6)12-7-3-1-...</td>\n",
       "      <td>Encoding(num_tokens=7, attributes=[ids, type_i...</td>\n",
       "      <td>Encoding(num_tokens=25, attributes=[ids, type_...</td>\n",
       "      <td>Encoding(num_tokens=5, attributes=[ids, type_i...</td>\n",
       "      <td>Encoding(num_tokens=39, attributes=[ids, type_...</td>\n",
       "      <td>Encoding(num_tokens=49, attributes=[ids, type_...</td>\n",
       "      <td>[61, 3249, 7, 1532, 8, 397, 3]</td>\n",
       "      <td>[61, 607, 58, 17, 257, 269, 28, 34, 7, 263, 58...</td>\n",
       "      <td>[61, 3502, 269, 343, 3]</td>\n",
       "      <td>[276, 258, 256, 34, 257, 34, 256, 45, 257, 34,...</td>\n",
       "      <td>[61, 282, 28, 278, 14, 6568, 14, 1158, 12, 21,...</td>\n",
       "    </tr>\n",
       "  </tbody>\n",
       "</table>\n",
       "</div>"
      ],
      "text/plain": [
       "                                    canonical_smiles  value  \\\n",
       "0  ^Br.COc1cc(OC)cc(N(CCP(=O)(O)O)c2ccc3ncc(-c4cn...   7.32   \n",
       "1   ^Brc1ccc(-c2nc3ccc(Nc4ccnc5ccccc45)cc3[nH]2)cc1$   6.75   \n",
       "2   ^Brc1ccc(-c2nc3ccc(Nc4ncnc5ccccc45)cc3[nH]2)cc1$   6.42   \n",
       "3                  ^Brc1cccc(Nc2ncc(-c3ccccc3)s2)n1$   7.85   \n",
       "4                             ^Brc1cnc(Nc2ccccn2)s1$   7.15   \n",
       "\n",
       "                                                 sln  \\\n",
       "0                                              ^BrH$   \n",
       "1  ^BrC[5]=CHCH=C(C[4]=NC[3]=CHCH=C(NHC[1]=CHCH=N...   \n",
       "2  ^BrC[5]=CHCH=C(C[4]=NC[3]=CHCH=C(NHC[1]=NCH=NC...   \n",
       "3  ^BrC[3]=CHCH=CHC(NHC[2]=NCH=C(C[1]=CHCH=CHCH=C...   \n",
       "4            ^BrC[2]=CHN=C(NHC[1]=CHCH=CHCH=N@1)S@2$   \n",
       "\n",
       "                                         deep_smiles  \\\n",
       "0  ^Br.COcccOC))ccNCCP=O)O)O))))ccccncc-ccnnC)c5)...   \n",
       "1  ^Brcccc-cnccccNcccncccccc%106)))))))))))cc6[nH...   \n",
       "2  ^Brcccc-cnccccNcncncccccc%106)))))))))))cc6[nH...   \n",
       "3             ^BrcccccNcncc-cccccc6))))))s5))))))n6$   \n",
       "4                          ^BrccncNcccccn6)))))))s5$   \n",
       "\n",
       "                                             selfies  \\\n",
       "0  ^[Br].[C][O][C][=C][C][Branch1_1][Ring1][O][C]...   \n",
       "1  ^[Br][C][=C][C][=C][Branch2_1][Ring1][S][C][=N...   \n",
       "2  ^[Br][C][=C][C][=C][Branch2_1][Ring1][S][C][=N...   \n",
       "3  ^[Br][C][=C][C][=C][C][Branch2_1][Ring1][Ring1...   \n",
       "4  ^[Br][C][=C][N][=C][Branch1_1][Branch2_3][N][C...   \n",
       "\n",
       "                                               inchi  \\\n",
       "0  ^InChI=1S/C22H24N5O5P.BrH/c1-26-14-15(12-24-26...   \n",
       "1  ^InChI=1S/C22H15BrN4/c23-15-7-5-14(6-8-15)22-2...   \n",
       "2  ^InChI=1S/C21H14BrN5/c22-14-7-5-13(6-8-14)20-2...   \n",
       "3  ^InChI=1S/C14H10BrN3S/c15-12-7-4-8-13(17-12)18...   \n",
       "4  ^InChI=1S/C8H6BrN3S/c9-6-5-11-8(13-6)12-7-3-1-...   \n",
       "\n",
       "                       canonical_smiles_BPE_encoding  \\\n",
       "0  Encoding(num_tokens=31, attributes=[ids, type_...   \n",
       "1  Encoding(num_tokens=15, attributes=[ids, type_...   \n",
       "2  Encoding(num_tokens=15, attributes=[ids, type_...   \n",
       "3  Encoding(num_tokens=11, attributes=[ids, type_...   \n",
       "4  Encoding(num_tokens=7, attributes=[ids, type_i...   \n",
       "\n",
       "                                    sln_BPE_encoding  \\\n",
       "0  Encoding(num_tokens=3, attributes=[ids, type_i...   \n",
       "1  Encoding(num_tokens=55, attributes=[ids, type_...   \n",
       "2  Encoding(num_tokens=55, attributes=[ids, type_...   \n",
       "3  Encoding(num_tokens=37, attributes=[ids, type_...   \n",
       "4  Encoding(num_tokens=25, attributes=[ids, type_...   \n",
       "\n",
       "                            deep_smiles_BPE_encoding  \\\n",
       "0  Encoding(num_tokens=25, attributes=[ids, type_...   \n",
       "1  Encoding(num_tokens=15, attributes=[ids, type_...   \n",
       "2  Encoding(num_tokens=15, attributes=[ids, type_...   \n",
       "3  Encoding(num_tokens=9, attributes=[ids, type_i...   \n",
       "4  Encoding(num_tokens=5, attributes=[ids, type_i...   \n",
       "\n",
       "                                selfies_BPE_encoding  \\\n",
       "0  Encoding(num_tokens=119, attributes=[ids, type...   \n",
       "1  Encoding(num_tokens=89, attributes=[ids, type_...   \n",
       "2  Encoding(num_tokens=89, attributes=[ids, type_...   \n",
       "3  Encoding(num_tokens=63, attributes=[ids, type_...   \n",
       "4  Encoding(num_tokens=39, attributes=[ids, type_...   \n",
       "\n",
       "                                  inchi_BPE_encoding  \\\n",
       "0  Encoding(num_tokens=109, attributes=[ids, type...   \n",
       "1  Encoding(num_tokens=87, attributes=[ids, type_...   \n",
       "2  Encoding(num_tokens=89, attributes=[ids, type_...   \n",
       "3  Encoding(num_tokens=63, attributes=[ids, type_...   \n",
       "4  Encoding(num_tokens=49, attributes=[ids, type_...   \n",
       "\n",
       "                   canonical_smiles_BPE_encoding_ids  \\\n",
       "0  [61, 313, 13, 290, 7, 274, 8, 256, 7, 45, 7, 2...   \n",
       "1  [61, 2441, 266, 731, 7, 1096, 8, 281, 58, 278,...   \n",
       "2  [61, 2441, 266, 731, 7, 1053, 8, 281, 58, 278,...   \n",
       "3    [61, 3248, 7, 434, 266, 357, 8, 401, 8, 284, 3]   \n",
       "4                     [61, 3249, 7, 1532, 8, 397, 3]   \n",
       "\n",
       "                                sln_BPE_encoding_ids  \\\n",
       "0                                       [61, 824, 3]   \n",
       "1  [61, 607, 58, 20, 257, 259, 28, 34, 7, 34, 58,...   \n",
       "2  [61, 607, 58, 20, 257, 259, 28, 34, 7, 34, 58,...   \n",
       "3  [61, 607, 58, 18, 257, 259, 28, 264, 7, 263, 5...   \n",
       "4  [61, 607, 58, 17, 257, 269, 28, 34, 7, 263, 58...   \n",
       "\n",
       "                        deep_smiles_BPE_encoding_ids  \\\n",
       "0  [61, 312, 13, 400, 256, 3928, 28, 46, 8, 46, 8...   \n",
       "1  [61, 2427, 12, 977, 4, 308, 289, 264, 58, 279,...   \n",
       "2  [61, 2427, 12, 912, 4, 308, 289, 264, 58, 279,...   \n",
       "3         [61, 3503, 12, 277, 265, 343, 265, 301, 3]   \n",
       "4                            [61, 3502, 269, 343, 3]   \n",
       "\n",
       "                            selfies_BPE_encoding_ids  \\\n",
       "0  [276, 258, 289, 34, 256, 46, 256, 34, 257, 34,...   \n",
       "1  [276, 258, 256, 34, 257, 34, 256, 34, 257, 34,...   \n",
       "2  [276, 258, 256, 34, 257, 34, 256, 34, 257, 34,...   \n",
       "3  [276, 258, 256, 34, 257, 34, 256, 34, 257, 34,...   \n",
       "4  [276, 258, 256, 34, 257, 34, 256, 45, 257, 34,...   \n",
       "\n",
       "                              inchi_BPE_encoding_ids  \n",
       "0  [61, 282, 28, 278, 14, 3948, 13, 3064, 14, 288...  \n",
       "1  [61, 282, 28, 278, 14, 6300, 14, 402, 12, 259,...  \n",
       "2  [61, 282, 28, 278, 14, 4227, 14, 396, 12, 260,...  \n",
       "3  [61, 282, 28, 278, 14, 6295, 14, 752, 12, 264,...  \n",
       "4  [61, 282, 28, 278, 14, 6568, 14, 1158, 12, 21,...  "
      ]
     },
     "execution_count": 117,
     "metadata": {},
     "output_type": "execute_result"
    }
   ],
   "source": [
    "df = pd.read_csv('../data/VEGF2_ChEMBL28-10980_pic50_BPE_list_tokens_ids.csv',sep=',')\n",
    "df.head(5)"
   ]
  },
  {
   "cell_type": "markdown",
   "metadata": {
    "id": "AzpM9t5mhc6N"
   },
   "source": [
    "### Padding\n",
    "- je treba udelat padding pro vsechny listy s tokens_id (oplnit vektory nulami do stejne delky)"
   ]
  },
  {
   "cell_type": "code",
   "execution_count": 118,
   "metadata": {
    "colab": {
     "base_uri": "https://localhost:8080/"
    },
    "id": "Abeejja0hLOZ",
    "outputId": "0182d8c6-0999-4eef-c837-4b2e26032f9a"
   },
   "outputs": [
    {
     "name": "stdout",
     "output_type": "stream",
     "text": [
      "canonical_smiles_BPE_encoding_ids\n",
      "472\n",
      "\n",
      "\n",
      "sln_BPE_encoding_ids\n",
      "755\n",
      "\n",
      "\n",
      "deep_smiles_BPE_encoding_ids\n",
      "401\n",
      "\n",
      "\n",
      "selfies_BPE_encoding_ids\n",
      "1996\n",
      "\n",
      "\n",
      "inchi_BPE_encoding_ids\n",
      "1989\n",
      "\n",
      "\n"
     ]
    },
    {
     "data": {
      "text/plain": [
       "array([[  61,  313,   13, ...,    0,    0,    0],\n",
       "       [  61, 2441,  266, ...,    0,    0,    0],\n",
       "       [  61, 2441,  266, ...,    0,    0,    0],\n",
       "       ...,\n",
       "       [  61,  587,    7, ...,    0,    0,    0],\n",
       "       [  61,  587,    7, ...,    0,    0,    0],\n",
       "       [  61,  868,  266, ...,    0,    0,    0]], dtype=int32)"
      ]
     },
     "execution_count": 118,
     "metadata": {},
     "output_type": "execute_result"
    }
   ],
   "source": [
    "n_features = 1\n",
    "RANDOM_STATE=42\n",
    "ys = df['value']\n",
    "\n",
    "col_names = ['canonical_smiles_BPE_encoding_ids','sln_BPE_encoding_ids','deep_smiles_BPE_encoding_ids','selfies_BPE_encoding_ids','inchi_BPE_encoding_ids']\n",
    "\n",
    "list_tokens = []\n",
    "max_length=[]\n",
    "\n",
    "i=0\n",
    "\n",
    "for col_name in col_names:\n",
    "    print(col_name)\n",
    "    res = df[col_name].apply(lambda tokens_ids: ast.literal_eval(tokens_ids))\n",
    "    max_length.append(df[col_name].apply(lambda x: len(x)).max())\n",
    "    print(max_length[i])\n",
    "    vector_with_padding = pad_sequences(res, maxlen=max_length[i], padding='post', truncating='post')\n",
    "    list_tokens.append(vector_with_padding)\n",
    "    print('\\n')\n",
    "    i+=1\n",
    "\n",
    "list_tokens[0]"
   ]
  },
  {
   "cell_type": "code",
   "execution_count": 5,
   "metadata": {},
   "outputs": [],
   "source": [
    "# list_tokens"
   ]
  },
  {
   "cell_type": "markdown",
   "metadata": {
    "id": "tRjICJDkeVha"
   },
   "source": [
    "### Statistika\n",
    "- jak vypadaji hodnoty biologicke aktivity (jaky rozsah - priblizit hodnotu RMSE)"
   ]
  },
  {
   "cell_type": "code",
   "execution_count": 7,
   "metadata": {
    "colab": {
     "base_uri": "https://localhost:8080/",
     "height": 265
    },
    "id": "_RBUx5TreW9r",
    "outputId": "37a915c4-15d6-43ee-fb5d-956fa3040c2a"
   },
   "outputs": [
    {
     "data": {
      "text/plain": [
       "Text(0, 0.5, 'pIC50')"
      ]
     },
     "execution_count": 7,
     "metadata": {},
     "output_type": "execute_result"
    },
    {
     "data": {
      "image/png": "[encoded data removed]",
      "text/plain": [
       "<Figure size 432x288 with 1 Axes>"
      ]
     },
     "metadata": {
      "needs_background": "light"
     },
     "output_type": "display_data"
    }
   ],
   "source": [
    "boxplot = df.boxplot(column=['value'])\n",
    "boxplot.set_title('Boxplot for biological activity')\n",
    "boxplot.set_ylabel('pIC50')"
   ]
  },
  {
   "cell_type": "markdown",
   "metadata": {
    "id": "SJpiKuzleXZb"
   },
   "source": [
    "### SMILES"
   ]
  },
  {
   "cell_type": "code",
   "execution_count": 8,
   "metadata": {
    "colab": {
     "base_uri": "https://localhost:8080/"
    },
    "id": "eAttHGIeg2uR",
    "outputId": "3c03e4bc-278a-4e49-9e92-f1678a329cbe"
   },
   "outputs": [],
   "source": [
    "# # smiles ulozeni tokenu pro smiles\n",
    "# idx = 0\n",
    "# xs = list_tokens[idx]\n",
    "# ys = df['value']\n",
    "\n",
    "# X_train, X_test, y_train, y_test = train_test_split(xs, ys, test_size=0.2, random_state=RANDOM_STATE)\n",
    "# X_train, X_val, y_train, y_val = train_test_split(X_train, y_train, test_size=0.25, random_state=RANDOM_STATE) # 0.25 x 0.8 = 0.2\n",
    "# # testovaci a validacni data maji stejnou velikost\n",
    "\n",
    "# t_w= len(np.unique(list(itertools.chain.from_iterable(X_train))))\n",
    "# print(X_train)\n",
    "# print(np.unique(list(itertools.chain.from_iterable(X_train))))\n",
    "# print(t_w)\n",
    "# print(y_train)"
   ]
  },
  {
   "cell_type": "markdown",
   "metadata": {
    "id": "CzksxYu0f3xX"
   },
   "source": [
    "# Trenovani neuronove site"
   ]
  },
  {
   "cell_type": "code",
   "execution_count": 9,
   "metadata": {},
   "outputs": [],
   "source": [
    "def showPlot(history,linearNotation_name,modelLossPlot_name):\n",
    "    # plot training history\n",
    "    plt.plot(history.history['loss'])\n",
    "    plt.plot(history.history['val_loss'])\n",
    "    plt.title('model loss - '+linearNotation_name)\n",
    "    plt.ylabel('loss')\n",
    "    plt.xlabel('epoch')\n",
    "    plt.legend(['train', 'val'], loc='upper right')\n",
    "    plt.savefig(modelLossPlot_name)\n",
    "    plt.show()"
   ]
  },
  {
   "cell_type": "code",
   "execution_count": 225,
   "metadata": {
    "id": "jdjsDM1yDs9d"
   },
   "outputs": [],
   "source": [
    "def tempTrainNeuralNetwork(idx, t_w, max_length,linearNotation_name,bestModel_name, modelHistory_name, modelLossPlot_name,n_patience,n_steps,n_features,X_train,y_train,X_val, y_val):\n",
    "    #Model build\n",
    "    print(X_train[:1,:20])\n",
    "    \n",
    "    opt = tensorflow.keras.optimizers.Adam(lr=0.005)\n",
    "    model = Sequential()\n",
    "    model.add(Embedding(t_w+5000, 100, input_length=max_length))\n",
    "    model.add(LSTM(100, input_shape=(max_length, n_features) ))\n",
    "    model.add(Dropout(0.2))\n",
    "    model.add(Dense(1, activation='linear'))\n",
    "    model.compile(loss='mse', optimizer=opt,metrics=['mse'])\n",
    "    model.summary()\n",
    "    # batch_size = 64\n",
    "    \n",
    "#     model = Sequential()\n",
    "#     model.add(Embedding(t_w+5000, 100, input_length=max_length))\n",
    "#     # model.add(Embedding(MAX_NB_WORDS, EMBEDDING_DIM, input_length=X.shape[1]))\n",
    "#     # model.add(SpatialDropout1D(0.2))\n",
    "# #     return_sequences=True\n",
    "#     # model.add(LSTM(50,activation='linear'))\n",
    "#     # model.add(LSTM(50, dropout=0.2, recurrent_dropout=0.2))\n",
    "#     model.add(LSTM(50, activation='relu'))\n",
    "#     # model.add(LSTM(50,activation='relu'))\n",
    "#     # model.add(Dense(1))\n",
    "#     model.add(Dense(1, activation='relu'))\n",
    "#     model.compile(loss='mse', optimizer='adam', metrics=['mse'])\n",
    "#     model.summary()\n",
    "\n",
    "\n",
    "   \n",
    "    \n",
    "    \n",
    "    # model = Sequential()\n",
    "    # model.add(Embedding(5000, 100, input_length=max_length))\n",
    "    # model.add(LSTM(100, dropout=0.2, recurrent_dropout=0.2))\n",
    "    # model.add(Dense(1, activation='linear'))\n",
    "    # model.compile(loss='mse', optimizer='rmsprop', metrics=['mse'])        \n",
    "    # model.summary()\n",
    "    \n",
    "    # embedding_dim=100\n",
    "    \n",
    "    # model = Sequential()\n",
    "    # model.add(Embedding(5000, embedding_dim, input_length = max_length))\n",
    "    # model.add(SpatialDropout1D(0.25))\n",
    "    # model.add(LSTM(80, dropout=0.5))\n",
    "    # model.add(Dropout(0.2))\n",
    "    # model.add(Dense(1, activation='linear'))\n",
    "    # model.compile(loss='mse',optimizer='rmsprop')\n",
    "    # model.summary()\n",
    "\n",
    "    # model.fit(X_train_pad, y_train, validation_split=0.2, batch_size= 64, epochs= 20)\n",
    "    \n",
    "    # dava inf\n",
    "    # model = Sequential()\n",
    "    # model.add(LSTM(50, activation='relu', input_shape=(n_steps,n_features)))\n",
    "    # model.add(Dense(1))\n",
    "    # model.compile(optimizer=opt, loss='mse', metrics=['mse'])\n",
    "    # model.summary()\n",
    "    \n",
    "    # patient early stopping\n",
    "    es = EarlyStopping(monitor='val_loss', mode='min', verbose=1, patience=n_patience)\n",
    "    mc = ModelCheckpoint(bestModel_name, monitor='val_loss', mode='min', verbose=1, save_best_only=True)\n",
    "    history = model.fit(X_train, y_train, validation_data=(X_val, y_val), epochs=4000, verbose=0, callbacks=[es, mc])\n",
    "    # history = model.fit(X_train, y_train, validation_data=(X_val, y_val), epochs=200)\n",
    "\n",
    "    # ulozeni historie modelu\n",
    "    with open(modelHistory_name, 'w') as f:\n",
    "        np.save(modelHistory_name,history.history)\n",
    "\n",
    "    showPlot(history,linearNotation_name,modelLossPlot_name)\n",
    "    return model,history"
   ]
  },
  {
   "cell_type": "code",
   "execution_count": 120,
   "metadata": {
    "id": "IZhKI8dEImGk"
   },
   "outputs": [],
   "source": [
    "# kontrola, rozdeleni data tak je vzdy stejne i kdyz pouziji data pro jiny chem. lin. zapis\n",
    "def tempSplitData(idx, list_token, ys, RANDOM_STATE):  \n",
    "    # smiles ulozeni tokenu pro smiles\n",
    "    X_train, X_test, y_train, y_test = train_test_split(list_token, ys, test_size=0.2, random_state=RANDOM_STATE)\n",
    "    X_train, X_val, y_train, y_val = train_test_split(X_train, y_train, test_size=0.25, random_state=RANDOM_STATE) # 0.25 x 0.8 = 0.2\n",
    "    t_w= len(np.unique(list(itertools.chain.from_iterable(X_train))))\n",
    "    \n",
    "    return X_train,y_train,X_val,y_val,X_test,y_test,t_w"
   ]
  },
  {
   "cell_type": "markdown",
   "metadata": {
    "id": "GuB0L_lOgkkf"
   },
   "source": [
    "#### Train model"
   ]
  },
  {
   "cell_type": "code",
   "execution_count": null,
   "metadata": {
    "colab": {
     "base_uri": "https://localhost:8080/"
    },
    "id": "_334bEm-Whr7",
    "outputId": "f883e432-40af-494b-f4ef-b0b70ec241cc"
   },
   "outputs": [
    {
     "name": "stdout",
     "output_type": "stream",
     "text": [
      "2703\n",
      "472\n",
      "(4295, 472, 1)\n",
      "[[[  61]\n",
      "  [ 318]\n",
      "  [   7]\n",
      "  [  46]\n",
      "  [   8]\n",
      "  [2232]\n",
      "  [   7]\n",
      "  [  34]\n",
      "  [   7]\n",
      "  [  37]\n",
      "  [ 280]\n",
      "  [  37]\n",
      "  [   8]\n",
      "  [  37]\n",
      "  [   8]\n",
      "  [ 506]\n",
      "  [   3]\n",
      "  [   0]\n",
      "  [   0]\n",
      "  [   0]]]\n",
      "Model: \"sequential_60\"\n",
      "_________________________________________________________________\n",
      " Layer (type)                Output Shape              Param #   \n",
      "=================================================================\n",
      " embedding_44 (Embedding)    (None, 472, 100)          770300    \n",
      "                                                                 \n",
      " lstm_54 (LSTM)              (None, 100)               80400     \n",
      "                                                                 \n",
      " dropout_9 (Dropout)         (None, 100)               0         \n",
      "                                                                 \n",
      " dense_51 (Dense)            (None, 1)                 101       \n",
      "                                                                 \n",
      "=================================================================\n",
      "Total params: 850,801\n",
      "Trainable params: 850,801\n",
      "Non-trainable params: 0\n",
      "_________________________________________________________________\n",
      "\n",
      "Epoch 00001: val_loss improved from inf to 1.27594, saving model to ../data/models/check/best_model_smiles.h5\n",
      "\n",
      "Epoch 00002: val_loss improved from 1.27594 to 1.21510, saving model to ../data/models/check/best_model_smiles.h5\n",
      "\n",
      "Epoch 00003: val_loss improved from 1.21510 to 1.15948, saving model to ../data/models/check/best_model_smiles.h5\n",
      "\n",
      "Epoch 00004: val_loss improved from 1.15948 to 1.15711, saving model to ../data/models/check/best_model_smiles.h5\n",
      "\n",
      "Epoch 00005: val_loss did not improve from 1.15711\n",
      "\n",
      "Epoch 00006: val_loss did not improve from 1.15711\n",
      "\n",
      "Epoch 00007: val_loss did not improve from 1.15711\n",
      "\n",
      "Epoch 00008: val_loss did not improve from 1.15711\n",
      "\n",
      "Epoch 00009: val_loss improved from 1.15711 to 1.15543, saving model to ../data/models/check/best_model_smiles.h5\n",
      "\n",
      "Epoch 00010: val_loss did not improve from 1.15543\n",
      "\n",
      "Epoch 00011: val_loss did not improve from 1.15543\n",
      "\n",
      "Epoch 00012: val_loss did not improve from 1.15543\n",
      "\n",
      "Epoch 00013: val_loss did not improve from 1.15543\n",
      "\n",
      "Epoch 00014: val_loss did not improve from 1.15543\n",
      "\n",
      "Epoch 00015: val_loss did not improve from 1.15543\n"
     ]
    }
   ],
   "source": [
    "# zkontrolovat, jestli se jedna os pravny chemicky linearni zapis\n",
    "linearNotation_names = ['smiles','sln','deep_smiles','selfies','inchi']\n",
    "n_patience=10\n",
    "\n",
    "for idx in range(len(linearNotation_names)):\n",
    "    if(idx>=1):\n",
    "        break\n",
    "    X_train,y_train,X_val,y_val,X_test,y_test,t_w = tempSplitData(idx, list_tokens[idx], ys, RANDOM_STATE)\n",
    "    \n",
    "    linearNotation_name = linearNotation_names[idx]\n",
    "    t_w= len(np.unique(list(itertools.chain.from_iterable(X_train))))\n",
    "    print(t_w)\n",
    "    m_l = X_train.shape[1]\n",
    "    print(m_l)\n",
    "\n",
    "    X_train = X_train.reshape((X_train.shape[0], X_train.shape[1], 1))\n",
    "    # y_train = y_train.reshape((y_train.shape[0], y_train.shape[1], 1))\n",
    "    X_val = X_val.reshape((X_val.shape[0], X_val.shape[1], 1))\n",
    "    # y_val = X_train.reshape((y_val.shape[0], X_val.shape[1], 1))\n",
    "    print(X_train.shape)\n",
    "    n_steps = X_train.shape[1]\n",
    "    n_features = 1\n",
    "    # print(X_train[:1,:20])\n",
    "\n",
    "\n",
    "    bestModel_name = '../data/models/check/best_model_'+linearNotation_names[idx]+'.h5'\n",
    "    modelHistory_name = '../data/models/check/history_'+linearNotation_names[idx]+'.npy'\n",
    "    modelLossPlot_name = '../data/models/check/modelLoss_'+linearNotation_names[idx]+'.png'\n",
    "\n",
    "    model, history = tempTrainNeuralNetwork(idx, t_w, m_l,linearNotation_names[idx],bestModel_name, modelHistory_name, modelLossPlot_name,n_patience,n_steps,n_features,X_train,y_train,X_val, y_val)\n",
    "\n",
    "    # load the saved model\n",
    "    # saved_model = models.load_model(bestModel_name)\n",
    "#     load save history\n",
    "    # history=np.load(modelHistory_name,allow_pickle='TRUE').item()\n",
    "\n",
    "    result_smiles = model.evaluate(X_test, y_test)\n",
    "    print(\"RMSE: \",result_smiles)"
   ]
  },
  {
   "cell_type": "code",
   "execution_count": 216,
   "metadata": {},
   "outputs": [
    {
     "name": "stdout",
     "output_type": "stream",
     "text": [
      "45/45 [==============================] - 23s 123ms/step - loss: 1.2484 - mse: 1.2484\n",
      "RMSE:  [1.2483618259429932, 1.2483618259429932]\n"
     ]
    }
   ],
   "source": [
    "# load the saved model\n",
    "saved_model = models.load_model(bestModel_name)\n",
    "# load save history\n",
    "# history=np.load(modelHistory_name,allow_pickle='TRUE').item()\n",
    "result_smiles = saved_model.evaluate(X_test, y_test)\n",
    "print(\"RMSE: \",result_smiles)"
   ]
  },
  {
   "cell_type": "code",
   "execution_count": 217,
   "metadata": {
    "colab": {
     "base_uri": "https://localhost:8080/"
    },
    "id": "MBJx63ZCgkym",
    "outputId": "14ff65f4-1a37-4480-d158-4985a82eb5ad"
   },
   "outputs": [
    {
     "name": "stdout",
     "output_type": "stream",
     "text": [
      "45/45 [==============================] - 6s 128ms/step\n"
     ]
    }
   ],
   "source": [
    "# X_test = X_test.reshape((X_test.shape[0], X_test.shape[1], 1))\n",
    "predictions = saved_model.predict(X_test,verbose =1)"
   ]
  },
  {
   "cell_type": "code",
   "execution_count": 218,
   "metadata": {},
   "outputs": [
    {
     "name": "stdout",
     "output_type": "stream",
     "text": [
      "1432\n",
      "[[6.8140225]\n",
      " [6.8140225]\n",
      " [6.8140225]\n",
      " ...\n",
      " [6.8140225]\n",
      " [6.8140225]\n",
      " [6.8140225]]\n"
     ]
    },
    {
     "data": {
      "text/plain": [
       "1432"
      ]
     },
     "execution_count": 218,
     "metadata": {},
     "output_type": "execute_result"
    }
   ],
   "source": [
    "print(len(X_test))\n",
    "print(predictions)\n",
    "len(predictions)"
   ]
  },
  {
   "cell_type": "code",
   "execution_count": 219,
   "metadata": {},
   "outputs": [
    {
     "data": {
      "text/plain": [
       "array([6.8140225], dtype=float32)"
      ]
     },
     "execution_count": 219,
     "metadata": {},
     "output_type": "execute_result"
    }
   ],
   "source": [
    "np.unique(predictions)"
   ]
  },
  {
   "cell_type": "code",
   "execution_count": 220,
   "metadata": {},
   "outputs": [
    {
     "data": {
      "text/plain": [
       "<function matplotlib.pyplot.show(close=None, block=None)>"
      ]
     },
     "execution_count": 220,
     "metadata": {},
     "output_type": "execute_result"
    },
    {
     "data": {
      "image/png": "[encoded data removed]",
      "text/plain": [
       "<Figure size 720x720 with 1 Axes>"
      ]
     },
     "metadata": {
      "needs_background": "light"
     },
     "output_type": "display_data"
    }
   ],
   "source": [
    "# plt.plot(y_test, predictions, 'o', color='black');\n",
    "plt.figure(figsize=(10,10))\n",
    "plt.scatter(y_test, predictions, c='crimson')\n",
    "# plt.yscale('log')\n",
    "# plt.xscale('log')\n",
    "\n",
    "p1 = max(max( predictions), max(y_test))\n",
    "p2 = min(min( predictions), min(y_test))\n",
    "plt.plot([p1, p2], [p1, p2], 'b-')\n",
    "plt.xlabel('True Values', fontsize=15)\n",
    "plt.ylabel('Predictions', fontsize=15)\n",
    "plt.axis('equal')\n",
    "plt.show"
   ]
  },
  {
   "cell_type": "code",
   "execution_count": 86,
   "metadata": {},
   "outputs": [
    {
     "data": {
      "text/plain": [
       "1894    5.22\n",
       "6372    5.62\n",
       "239     6.00\n",
       "4609    8.17\n",
       "5694    7.04\n",
       "        ... \n",
       "4953    7.57\n",
       "279     7.48\n",
       "5360    6.71\n",
       "1703    7.75\n",
       "2439    7.80\n",
       "Name: value, Length: 1432, dtype: float64"
      ]
     },
     "execution_count": 86,
     "metadata": {},
     "output_type": "execute_result"
    }
   ],
   "source": [
    "y_test"
   ]
  },
  {
   "cell_type": "code",
   "execution_count": null,
   "metadata": {},
   "outputs": [],
   "source": []
  },
  {
   "cell_type": "code",
   "execution_count": null,
   "metadata": {},
   "outputs": [],
   "source": []
  },
  {
   "cell_type": "code",
   "execution_count": null,
   "metadata": {},
   "outputs": [],
   "source": []
  },
  {
   "cell_type": "code",
   "execution_count": null,
   "metadata": {},
   "outputs": [],
   "source": []
  },
  {
   "cell_type": "code",
   "execution_count": null,
   "metadata": {},
   "outputs": [],
   "source": []
  },
  {
   "cell_type": "code",
   "execution_count": null,
   "metadata": {},
   "outputs": [],
   "source": []
  },
  {
   "cell_type": "code",
   "execution_count": null,
   "metadata": {},
   "outputs": [],
   "source": []
  }
 ],
 "metadata": {
  "accelerator": "GPU",
  "colab": {
   "collapsed_sections": [],
   "name": "MVI_prediction_biological_activity_ANN.ipynb",
   "provenance": []
  },
  "kernelspec": {
   "display_name": "Python 3 (ipykernel)",
   "language": "python",
   "name": "python3"
  },
  "language_info": {
   "codemirror_mode": {
    "name": "ipython",
    "version": 3
   },
   "file_extension": ".py",
   "mimetype": "text/x-python",
   "name": "python",
   "nbconvert_exporter": "python",
   "pygments_lexer": "ipython3",
   "version": "3.9.7"
  }
 },
 "nbformat": 4,
 "nbformat_minor": 4
}
