{
 "cells": [
  {
   "cell_type": "code",
   "execution_count": 90,
   "id": "7e386914-77db-47a2-82b8-2184a7ffcd12",
   "metadata": {},
   "outputs": [],
   "source": [
    "import pandas as pd\n",
    "import csv\n",
    "import numpy as np\n",
    "import string, os \n",
    "import math\n",
    "from matplotlib import pyplot as plt\n",
    "import re\n",
    "import ast\n",
    "import itertools\n",
    "import pickle\n",
    "\n",
    "import matplotlib.pyplot as plt\n",
    "import numpy as np\n",
    "\n",
    "from rdkit import Chem\n",
    "from rdkit.Chem import Draw\n",
    "from rdkit.Chem.Draw import IPythonConsole\n",
    "\n",
    "from rdkit.Chem import rdmolops\n",
    "\n",
    "import ast\n",
    "import re\n",
    "\n",
    "import codecs\n",
    "# from SmilesPE.spe2vec import *\n",
    "# from SmilesPE.tokenizer import *\n",
    "\n",
    "from keras.preprocessing.text import Tokenizer\n",
    "from keras.callbacks import EarlyStopping\n",
    "from keras.callbacks import ModelCheckpoint\n",
    "from keras.models import Sequential\n",
    "from keras.wrappers.scikit_learn import KerasRegressor \n",
    "\n",
    "import tensorflow\n",
    "from tensorflow import keras\n",
    "from tensorflow.keras import layers\n",
    "from keras import models \n",
    "from tensorflow.keras.preprocessing.sequence import pad_sequences\n",
    "from tensorflow.keras.layers import Embedding, LSTM, Dense, Dropout, Bidirectional, SpatialDropout1D\n",
    "from tensorflow.keras.utils import to_categorical\n",
    "from tokenizers import Tokenizer\n",
    "from transformers import PreTrainedTokenizerFast\n",
    "from SmilesPE.pretokenizer import atomwise_tokenizer\n",
    "import codecs\n",
    "from SmilesPE.tokenizer import *\n",
    "from SmilesPE.spe2vec import *\n",
    "from SmilesPE.pretokenizer import kmer_tokenizer\n",
    "\n",
    "from sklearn.model_selection import train_test_split\n",
    "\n",
    "from rdkit.Chem import AllChem as Chem\n",
    "# import deepsmiles\n",
    "# import selfies as sf\n",
    "\n",
    "from tensorflow.keras.preprocessing.sequence import pad_sequences"
   ]
  },
  {
   "cell_type": "code",
   "execution_count": 5,
   "id": "32f2c232-cc60-46c3-a0a2-620db3439454",
   "metadata": {},
   "outputs": [],
   "source": [
    "df = pd.read_csv('../data/VEGF2_ChEMBL28-10980_pic50_noDuplicate_canSmiles_sln_deepSmiles_selfies_inchi.csv',sep=',')"
   ]
  },
  {
   "cell_type": "code",
   "execution_count": 6,
   "id": "2ff26857-0737-4078-948d-60324dd58a5b",
   "metadata": {},
   "outputs": [
    {
     "name": "stdout",
     "output_type": "stream",
     "text": [
      "(7159, 11)\n",
      "(7044, 11)\n"
     ]
    }
   ],
   "source": [
    "linearNotation_names = ['canonical_smiles','sln','deep_smiles','selfies','inchi']\n",
    "for notName in linearNotation_names:\n",
    "    df[notName+'_length'] = df[notName].str.len()\n",
    "print(df.shape)\n",
    "# canonical_smiles_length\n",
    "dfClean = df.loc[(df['canonical_smiles_length'] >30) & (df['canonical_smiles_length']<80)]\n",
    "print(dfClean.shape)"
   ]
  },
  {
   "cell_type": "markdown",
   "id": "66c818e4-eab4-476e-9c44-ad63031cfca2",
   "metadata": {},
   "source": [
    "### Pomocne funkce"
   ]
  },
  {
   "cell_type": "code",
   "execution_count": 79,
   "id": "cd13df85-d0cb-4747-bad1-c5eb6642a37c",
   "metadata": {},
   "outputs": [],
   "source": [
    "# kontrola, rozdeleni data tak je vzdy stejne i kdyz pouziji data pro jiny chem. lin. zapis\n",
    "def splitData(list_token, ys, RANDOM_STATE):  \n",
    "    X_train, X_test, y_train, y_test = train_test_split(list_token, ys, test_size=0.2, random_state=RANDOM_STATE)\n",
    "    X_train, X_val, y_train, y_val = train_test_split(X_train, y_train, test_size=0.25, random_state=RANDOM_STATE) # 0.25 x 0.8 = 0.2\n",
    "    unique= set(list(itertools.chain.from_iterable(X_train)))\n",
    "    n_unique=len(unique)\n",
    "    max_index = max(unique)\n",
    "    if(n_unique > max_index):\n",
    "        vocabulary_size = n_unique + 5000\n",
    "    else:\n",
    "        vocabulary_size = max_index +5000\n",
    "    return X_train,y_train,X_val,y_val,X_test,y_test,vocabulary_size"
   ]
  },
  {
   "cell_type": "code",
   "execution_count": 54,
   "id": "27d8ed5d-4156-4f08-b6ab-3fa49285c692",
   "metadata": {},
   "outputs": [],
   "source": [
    "def removeBeginningInChI(chem_notation,substring):\n",
    "    res = chem_notation.replace(substring,'')\n",
    "    return res"
   ]
  },
  {
   "cell_type": "code",
   "execution_count": 55,
   "id": "b554d77a-2a36-4b84-bb08-2c70104980e2",
   "metadata": {},
   "outputs": [],
   "source": [
    "def splitByAtomwiseTokenizer(chem_notation):\n",
    "    lst=[]\n",
    "    temp = atomwise_tokenizer(chem_notation)\n",
    "    lst.append('^')\n",
    "    for l in temp:\n",
    "        lst.append(l)\n",
    "    lst.append('$')\n",
    "    return lst"
   ]
  },
  {
   "cell_type": "code",
   "execution_count": 56,
   "id": "3a162b25-61b7-4aa7-953a-5c629f211f92",
   "metadata": {},
   "outputs": [],
   "source": [
    "def addCharAtBeginningEnd(temp):\n",
    "    lst=[]\n",
    "    lst.append('^')\n",
    "    for l in temp:\n",
    "        lst.append(l)\n",
    "    lst.append('$')\n",
    "    return lst"
   ]
  },
  {
   "cell_type": "code",
   "execution_count": 57,
   "id": "067e94f5-9d27-49fa-8277-4a0543fa0afd",
   "metadata": {},
   "outputs": [],
   "source": [
    "def tokenizationBPEChemLinearNotaion(col_name,df):\n",
    "    fileName = 'data_for_tokenizer/tokenizer-wiki_'+str(col_name)+'.json' \n",
    "    fast_tokenizer = PreTrainedTokenizerFast(tokenizer_file=fileName)\n",
    "    return df[col_name].apply(lambda chem_notaion: fast_tokenizer.tokenize(str(chem_notaion)))"
   ]
  },
  {
   "cell_type": "code",
   "execution_count": 58,
   "id": "90eb9018-9849-4270-a7af-3d93aba605b6",
   "metadata": {},
   "outputs": [],
   "source": [
    "def addCharacterStartEndSequenceSplitByCharacters(chem_notation):\n",
    "    chem_notation = \"^\" + chem_notation + \"$\"\n",
    "    return [c for c in chem_notation]"
   ]
  },
  {
   "cell_type": "code",
   "execution_count": 59,
   "id": "182d4c77-4e67-4271-bb20-3cd3a2cb8893",
   "metadata": {},
   "outputs": [],
   "source": [
    "def tokenizeChemNotation(chem_notation,col_name): \n",
    "    spe_vob= codecs.open('SPE_ChEMBL_'+str(col_name)+'.txt')\n",
    "    spe = SPE_Tokenizer(spe_vob)\n",
    "    lst = spe.tokenize(chem_notation)\n",
    "    lst = lst.split(' ')\n",
    "    return lst"
   ]
  },
  {
   "cell_type": "code",
   "execution_count": 60,
   "id": "4ab0d6d6-729c-4bb0-92d3-0959a8ea203c",
   "metadata": {},
   "outputs": [],
   "source": [
    "def splitByKmerTokenizer(chem_notation):\n",
    "    lst=[]\n",
    "    temp = kmer_tokenizer(chem_notation, ngram=4, stride=1, remove_last = False, exclusive_tokens = None)\n",
    "    lst.append('^')\n",
    "    for l in temp:\n",
    "        lst.append(l)\n",
    "    lst.append('$')\n",
    "    return lst"
   ]
  },
  {
   "cell_type": "code",
   "execution_count": 61,
   "id": "b69ddce5-e1ee-4dc7-bf54-406c491d422a",
   "metadata": {},
   "outputs": [],
   "source": [
    "# vytvorit list token id + padding \n",
    "def createListTokensId(chem_notation, vocabulary):\n",
    "    token_id_list=[]\n",
    "    for c in chem_notation:\n",
    "        token_id_list.append(vocabulary[c])\n",
    "    return token_id_list"
   ]
  },
  {
   "cell_type": "code",
   "execution_count": null,
   "id": "4f805070-588c-4d45-9723-73c9cad9be36",
   "metadata": {},
   "outputs": [],
   "source": [
    "# vytvoreni modelu s tunnenim parametru\n",
    "def create_modelPrams(params, max_length, vocab_size):\n",
    "    n_features = 1\n",
    "    # tady je treba to nastavit podle nejvyssiho indexu, jinak embedding vyhodi chybu\n",
    "    # Keras LSTM model\n",
    "    model = Sequential()\n",
    "    model.add(Embedding(vocab_size,params['units_embedding'], input_length=max_length))\n",
    "\n",
    "    model.add(Bidirectional(LSTM(units=params['units1'], input_shape=(max_length, n_features))))\n",
    "    # model.add(LSTM(units=params['units1'], input_shape=(max_length, n_features)))\n",
    "    model.add(Dropout(rate=0.5))\n",
    "\n",
    "    # Middle layers return sequences\n",
    "    for i in range(params['layers']-2):\n",
    "        model.add(Dense(units=params['units2']))\n",
    "        # model.add(LSTM(units=params['units2'], return_sequences=True))\n",
    "        model.add(Dropout(rate=0.5))\n",
    "        \n",
    "    model.add(Dense(units=params['units3']))\n",
    "    model.add(Dropout(rate=0.5))\n",
    "\n",
    "    model.add(Dense(1, activation='linear'))\n",
    "    model.compile(loss='mse', optimizer='adam',metrics=['mse'])\n",
    "    # model.summary()\n",
    "    return model"
   ]
  },
  {
   "cell_type": "code",
   "execution_count": null,
   "id": "fd6d32c6-cf0c-4e64-8d9a-2184308dee89",
   "metadata": {},
   "outputs": [],
   "source": [
    "def tokenize(df,linearNotation_name,tokenization,lengths_lst_tokenIdxs,j):\n",
    "    substring = 'InChI=1S/'\n",
    "    df['inchi'] = df['inchi'].apply(lambda chem_notation: removeBeginningInChI(chem_notation,substring))\n",
    "    col_name = linearNotation_name\n",
    "    token_col_name = col_name+'_tokens'\n",
    "    tokenIndex_col_name = col_name+'_tokenIndexList'\n",
    "\n",
    "    if(tokenization == 'atom'):\n",
    "        df[token_col_name] = df[col_name].apply(lambda chem_notation: splitByAtomwiseTokenizer(chem_notation))\n",
    "    elif(tokenization == 'bpe'):\n",
    "        df[token_col_name] = tokenizationBPEChemLinearNotaion(col_name,df)\n",
    "        df[token_col_name] = df[token_col_name].apply(lambda lst_tokens: addCharAtBeginningEnd(lst_tokens))\n",
    "    elif(tokenization == 'char'):\n",
    "        df[token_col_name] = df[col_name].apply(lambda chem_notation: addCharacterStartEndSequenceSplitByCharacters(chem_notation))\n",
    "    elif(tokenization == 'spe'):\n",
    "        df[token_col_name] = df[col_name].apply(lambda chem_notation: tokenizeChemNotation(chem_notation,col_name))\n",
    "    elif(tokenization == 'kmer'):\n",
    "        df[token_col_name] = df[col_name].apply(lambda chem_notation: splitByKmerTokenizer(chem_notation))\n",
    "        \n",
    "    max_length = lengths_lst_tokenIdxs[tokenization][j]\n",
    "    df[token_col_name] = df[token_col_name].apply(lambda x: cutVecTokens(x,max_length))\n",
    "    print(max_length)\n",
    "    CHEM_NOTATION_CHARS = set(df[token_col_name].apply(list).sum())\n",
    "    vocabulary = {c: i+2 for i,c in enumerate(set(CHEM_NOTATION_CHARS))}\n",
    "    df[tokenIndex_col_name] = df[token_col_name].apply(lambda chem_notation: createListTokensId(chem_notation, vocabulary))\n",
    "    \n",
    "    # padding\n",
    "    res = df[tokenIndex_col_name].apply(lambda tokenIndex: tokenIndex).tolist()\n",
    "    # pro kontrolu\n",
    "    vector_with_padding = pad_sequences(res, maxlen=max_length, padding='post', truncating='post')\n",
    "    df[tokenIndex_col_name] = [vector_with_padding[i] for i in range(len(vector_with_padding))]\n",
    "    # print('\\n',df[token_col_name].tolist()[0])\n",
    "    # print('\\n',df[tokenIndex_col_name].tolist()[0])\n",
    "    return df"
   ]
  },
  {
   "cell_type": "markdown",
   "id": "52a18f89-214a-4e7e-bfaa-a07cf6913afa",
   "metadata": {},
   "source": [
    "### Trenovani site"
   ]
  },
  {
   "cell_type": "code",
   "execution_count": 100,
   "id": "51b6c4e2-2f00-443f-ab23-81996bd60375",
   "metadata": {},
   "outputs": [
    {
     "name": "stdout",
     "output_type": "stream",
     "text": [
      "(7044, 11)\n",
      "-----------------------------------------------------------------------------\n",
      "atom\n",
      "-----------------------------------------------------------------------------\n",
      "bpe\n",
      "\n",
      "inchi\n",
      "130\n",
      "(7044, 130)\n",
      "Epoch 00151: early stopping\n",
      "45/45 [==============================] - 2s 33ms/step - loss: 1.2529 - mse: 1.2529\n",
      "\n",
      "n_patience:   40\n",
      "cut_length:   130\n",
      "results: [1.2528955936431885, 1.2528955936431885]\n",
      "-----------------------------------------------------------------------------\n",
      "char\n",
      "-----------------------------------------------------------------------------\n",
      "spe\n",
      "-----------------------------------------------------------------------------\n",
      "kmer\n"
     ]
    },
    {
     "data": {
      "image/png": "[encoded data removed]",
      "text/plain": [
       "<Figure size 720x720 with 1 Axes>"
      ]
     },
     "metadata": {
      "needs_background": "light"
     },
     "output_type": "display_data"
    }
   ],
   "source": [
    "# budu delat postupne po tokenizacich, abych to mohla kontrolovat\n",
    "#DEFINIICE PROMENNYCH\n",
    "tokenization_names = ['atom','bpe','char','spe','kmer']\n",
    "linearNotation_names = ['canonical_smiles','sln','deep_smiles','selfies','inchi']\n",
    "\n",
    "params={'layers': 3, 'l_rate': 0.01, 'units1': 40, 'units2': 32, 'units3': 16, 'units_embedding': 80}  \n",
    "encoding = 'tokenIndexVec'\n",
    "n_patience = 40\n",
    "RANDOM_STATE=42\n",
    "lengths_lst_tokenIdxs = {   'atom':[60,90,65,62,160],\n",
    "                            'char':[62,105,70,300,160],\n",
    "                            'kmer':[60,92,65,60,160],\n",
    "                            'bpe':[30,62,24,125,90],\n",
    "                            'spe':[13,8,7,31,43]}\n",
    "print(dfClean.shape)\n",
    "ys = np.array(dfClean['value'].tolist())\n",
    "\n",
    "# ITERATE OVER TOKENIZATION\n",
    "for i in range(len(tokenization_names)):\n",
    "    tokenization = tokenization_names[i]\n",
    "    print('-----------------------------------------------------------------------------\\n'+tokenization)\n",
    "    # ITERATE OVER LINEAR CHEMICAL NOTATION\n",
    "    for j in range(len(linearNotation_names)):\n",
    "        chem_notation = linearNotation_names[j]\n",
    "        if(not((tokenization=='bpe' and chem_notation == 'inchi'))):\n",
    "            continue\n",
    "        max_length = lengths_lst_tokenIdxs[tokenization][j]\n",
    "        print('\\n'+chem_notation)\n",
    "        df_new = tokenize(dfClean.copy(),chem_notation,tokenization,lengths_lst_tokenIdxs,j)\n",
    "        data = np.array(df_new[chem_notation+'_tokenIndexList'].tolist())\n",
    "        print(data.shape)\n",
    "        \n",
    "        X_train,y_train,X_val,y_val,X_test,y_test,vocab_size = splitData(data, ys, RANDOM_STATE)\n",
    "        model = create_modelPrams(params, max_length, vocab_size)\n",
    "        \n",
    "        # for np in n_patiences:\n",
    "        startName = '../data/models/'+encoding\n",
    "        bestModelName = startName +'/bestModel_otherArchitecture_'+chem_notation+'_np_'+str(n_patience)+'.h5'\n",
    "        predictionsPlot_fileName = startName +'/predictionsPlot_'+chem_notation+'_np_'+str(n_patience)+'.png'\n",
    "\n",
    "        mc = ModelCheckpoint(bestModelName, monitor='val_loss', mode='min')\n",
    "        es = EarlyStopping(monitor='val_loss', mode='min', verbose=1, patience=n_patience)\n",
    "        # validation_data=(X_val, y_val)\n",
    "        X_train, X_val_fit, y_train, y_val_fit = train_test_split(X_train,y_train,test_size=0.2,random_state=RANDOM_STATE) # before model building\n",
    "        result = model.fit(X_train, y_train, validation_data=(X_val_fit, y_val_fit),  epochs=400,verbose=0, callbacks=[es,mc])\n",
    "        best_model = models.load_model(bestModelName)\n",
    "        # # model prediction\n",
    "        y_pred = best_model.predict(X_val)\n",
    "        results_eval = best_model.evaluate(X_val, y_val)\n",
    "        print('\\nn_patience:  ', n_patience)\n",
    "        print('cut_length:  ',max_length)\n",
    "        print('results:',results_eval ,end='\\n')\n",
    "        plotPredictReal(y_pred,y_val,chem_notation,predictionsPlot_fileName)\n",
    "        "
   ]
  },
  {
   "cell_type": "code",
   "execution_count": null,
   "id": "f9036566-0def-4e28-99c5-41046d72db02",
   "metadata": {},
   "outputs": [],
   "source": []
  },
  {
   "cell_type": "code",
   "execution_count": null,
   "id": "acf0da90-a996-44c1-b0c1-03cff23638ad",
   "metadata": {},
   "outputs": [],
   "source": []
  }
 ],
 "metadata": {
  "kernelspec": {
   "display_name": "my-rdkit-env",
   "language": "python",
   "name": "my-rdkit-env"
  },
  "language_info": {
   "codemirror_mode": {
    "name": "ipython",
    "version": 3
   },
   "file_extension": ".py",
   "mimetype": "text/x-python",
   "name": "python",
   "nbconvert_exporter": "python",
   "pygments_lexer": "ipython3",
   "version": "3.9.7"
  }
 },
 "nbformat": 4,
 "nbformat_minor": 5
}
