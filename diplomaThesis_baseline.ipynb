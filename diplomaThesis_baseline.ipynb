{
 "cells": [
  {
   "cell_type": "markdown",
   "id": "c664bca0",
   "metadata": {},
   "source": [
    "# Baseline\n",
    "- predikovat biologickou aktivitu pro nejaky baseline asi randomforest"
   ]
  },
  {
   "cell_type": "code",
   "execution_count": 16,
   "id": "09d93020",
   "metadata": {},
   "outputs": [],
   "source": [
    "import string\n",
    "import pandas as pd\n",
    "import csv\n",
    "\n",
    "from sklearn import metrics\n",
    "import matplotlib.pyplot as plt\n",
    "import numpy as np\n",
    "\n",
    "from sklearn.model_selection import KFold\n",
    "\n",
    "from rdkit import Chem\n",
    "from rdkit.Chem import Draw\n",
    "from rdkit.Chem import AllChem\n",
    "from rdkit.Chem.Draw import IPythonConsole\n",
    "\n",
    "from sklearn.model_selection import train_test_split\n",
    "from sklearn.ensemble import RandomForestRegressor\n",
    "from sklearn.model_selection import GridSearchCV"
   ]
  },
  {
   "cell_type": "code",
   "execution_count": 10,
   "id": "e4296a6c",
   "metadata": {},
   "outputs": [
    {
     "name": "stdout",
     "output_type": "stream",
     "text": [
      "(7159, 11)\n",
      "(7044, 11)\n"
     ]
    }
   ],
   "source": [
    "df = pd.read_csv('../data/VEGF2_ChEMBL28-10980_pic50_noDuplicate_canSmiles_sln_deepSmiles_selfies_inchi.csv',sep=',')\n",
    "\n",
    "linearNotation_names = ['canonical_smiles','sln','deep_smiles','selfies','inchi']\n",
    "for notName in linearNotation_names:\n",
    "    df[notName+'_length'] = df[notName].str.len()\n",
    "print(df.shape)\n",
    "# canonical_smiles_length\n",
    "df = df.loc[(df['canonical_smiles_length'] >30) & (df['canonical_smiles_length']<80)]\n",
    "print(df.shape)"
   ]
  },
  {
   "cell_type": "code",
   "execution_count": 11,
   "id": "47f0671d",
   "metadata": {},
   "outputs": [
    {
     "data": {
      "text/html": [
       "<div>\n",
       "<style scoped>\n",
       "    .dataframe tbody tr th:only-of-type {\n",
       "        vertical-align: middle;\n",
       "    }\n",
       "\n",
       "    .dataframe tbody tr th {\n",
       "        vertical-align: top;\n",
       "    }\n",
       "\n",
       "    .dataframe thead th {\n",
       "        text-align: right;\n",
       "    }\n",
       "</style>\n",
       "<table border=\"1\" class=\"dataframe\">\n",
       "  <thead>\n",
       "    <tr style=\"text-align: right;\">\n",
       "      <th></th>\n",
       "      <th>canonical_smiles</th>\n",
       "      <th>value</th>\n",
       "      <th>sln</th>\n",
       "      <th>deep_smiles</th>\n",
       "      <th>selfies</th>\n",
       "      <th>inchi</th>\n",
       "      <th>canonical_smiles_length</th>\n",
       "      <th>sln_length</th>\n",
       "      <th>deep_smiles_length</th>\n",
       "      <th>selfies_length</th>\n",
       "      <th>inchi_length</th>\n",
       "    </tr>\n",
       "  </thead>\n",
       "  <tbody>\n",
       "    <tr>\n",
       "      <th>0</th>\n",
       "      <td>Br.COc1cc(OC)cc(N(CCP(=O)(O)O)c2ccc3ncc(-c4cnn...</td>\n",
       "      <td>7.32</td>\n",
       "      <td>BrH</td>\n",
       "      <td>Br.COcccOC))ccNCCP=O)O)O))))ccccncc-ccnnC)c5))...</td>\n",
       "      <td>[Br].[C][O][C][=C][C][Branch1_1][Ring1][O][C][...</td>\n",
       "      <td>InChI=1S/C22H24N5O5P.BrH/c1-26-14-15(12-24-26)...</td>\n",
       "      <td>60</td>\n",
       "      <td>3</td>\n",
       "      <td>69</td>\n",
       "      <td>292</td>\n",
       "      <td>168</td>\n",
       "    </tr>\n",
       "    <tr>\n",
       "      <th>1</th>\n",
       "      <td>Brc1ccc(-c2nc3ccc(Nc4ccnc5ccccc45)cc3[nH]2)cc1</td>\n",
       "      <td>6.75</td>\n",
       "      <td>BrC[5]=CHCH=C(C[4]=NC[3]=CHCH=C(NHC[1]=CHCH=NC...</td>\n",
       "      <td>Brcccc-cnccccNcccncccccc%106)))))))))))cc6[nH]...</td>\n",
       "      <td>[Br][C][=C][C][=C][Branch2_1][Ring1][S][C][=N]...</td>\n",
       "      <td>InChI=1S/C22H15BrN4/c23-15-7-5-14(6-8-15)22-26...</td>\n",
       "      <td>46</td>\n",
       "      <td>84</td>\n",
       "      <td>59</td>\n",
       "      <td>226</td>\n",
       "      <td>133</td>\n",
       "    </tr>\n",
       "  </tbody>\n",
       "</table>\n",
       "</div>"
      ],
      "text/plain": [
       "                                    canonical_smiles  value  \\\n",
       "0  Br.COc1cc(OC)cc(N(CCP(=O)(O)O)c2ccc3ncc(-c4cnn...   7.32   \n",
       "1     Brc1ccc(-c2nc3ccc(Nc4ccnc5ccccc45)cc3[nH]2)cc1   6.75   \n",
       "\n",
       "                                                 sln  \\\n",
       "0                                                BrH   \n",
       "1  BrC[5]=CHCH=C(C[4]=NC[3]=CHCH=C(NHC[1]=CHCH=NC...   \n",
       "\n",
       "                                         deep_smiles  \\\n",
       "0  Br.COcccOC))ccNCCP=O)O)O))))ccccncc-ccnnC)c5))...   \n",
       "1  Brcccc-cnccccNcccncccccc%106)))))))))))cc6[nH]...   \n",
       "\n",
       "                                             selfies  \\\n",
       "0  [Br].[C][O][C][=C][C][Branch1_1][Ring1][O][C][...   \n",
       "1  [Br][C][=C][C][=C][Branch2_1][Ring1][S][C][=N]...   \n",
       "\n",
       "                                               inchi  canonical_smiles_length  \\\n",
       "0  InChI=1S/C22H24N5O5P.BrH/c1-26-14-15(12-24-26)...                       60   \n",
       "1  InChI=1S/C22H15BrN4/c23-15-7-5-14(6-8-15)22-26...                       46   \n",
       "\n",
       "   sln_length  deep_smiles_length  selfies_length  inchi_length  \n",
       "0           3                  69             292           168  \n",
       "1          84                  59             226           133  "
      ]
     },
     "execution_count": 11,
     "metadata": {},
     "output_type": "execute_result"
    }
   ],
   "source": [
    "# # puvodni chemicke linearni zapisy\n",
    "# df_full = pd.read_csv('../data/VEGF2_ChEMBL28-10980_pic50_noDuplicate_canSmiles_sln_deepSmiles_selfies_inchi.csv',sep=',')\n",
    "# # df_full = pd.read_csv('../data/VEGF2_ChEMBL28-10980_pic50_oneHotEncoding_all_chem_linear_notaion.csv',sep=',')\n",
    "# df = df_full[['canonical_smiles','value','sln','deep_smiles','selfies','inchi']]\n",
    "df.head(2)"
   ]
  },
  {
   "cell_type": "markdown",
   "id": "49d278d5",
   "metadata": {},
   "source": [
    "## Create features\n",
    "- moje features jsou morganovy fingerprinty (z bakalarky jsem to vzala)"
   ]
  },
  {
   "cell_type": "code",
   "execution_count": 12,
   "id": "11c9c5bf",
   "metadata": {},
   "outputs": [],
   "source": [
    "RANDOM_STATE = 42\n",
    "#prevedu smiles na mol \n",
    "def molFromSmiles(smiles):\n",
    "    return (Chem.MolFromSmiles(smiles))\n",
    "\n",
    "# ulozim si mol do sloupecku v dataframu\n",
    "df['mol'] = df['canonical_smiles'].apply(molFromSmiles)\n",
    "np_mol = np.asarray(df['mol'])\n",
    "    \n",
    "# vypoctu si pro kazdy smiles fingerprint\n",
    "fps = [AllChem.GetMorganFingerprintAsBitVect(m, 2, nBits=1024) for m in np_mol]\n",
    "# convert the RDKit explicit vectors into numpy arrays\n",
    "np_fps = np.asarray(fps)\n",
    "\n",
    "# X - features array\n",
    "# y - target variable/prediction\n",
    "X=np_fps  # Features\n",
    "y=df['value']  # Labels\n",
    "\n",
    "# kvuli ladeni hyperparametru u prediction model\n",
    "# Split dataset into train, validate and test set\n",
    "X_train, X_test, y_train, y_test = train_test_split(X, y, test_size=0.20, random_state=RANDOM_STATE)  # 80% training and 20% test\n",
    "X_train, X_val, y_train, y_val = train_test_split(X_train, y_train, test_size=0.25, random_state=RANDOM_STATE)"
   ]
  },
  {
   "cell_type": "code",
   "execution_count": 13,
   "id": "72b85855",
   "metadata": {},
   "outputs": [
    {
     "data": {
      "text/plain": [
       "0       7.320000\n",
       "1       6.750000\n",
       "2       6.420000\n",
       "3       7.850000\n",
       "5       7.453333\n",
       "          ...   \n",
       "7154    6.440000\n",
       "7155    7.700000\n",
       "7156    5.470000\n",
       "7157    5.525000\n",
       "7158    6.030000\n",
       "Name: value, Length: 7044, dtype: float64"
      ]
     },
     "execution_count": 13,
     "metadata": {},
     "output_type": "execute_result"
    }
   ],
   "source": [
    "y"
   ]
  },
  {
   "cell_type": "markdown",
   "id": "7b2ad78e",
   "metadata": {},
   "source": [
    "## Random hyperparameter grid"
   ]
  },
  {
   "cell_type": "code",
   "execution_count": 14,
   "id": "c3ea5ddd",
   "metadata": {},
   "outputs": [
    {
     "name": "stdout",
     "output_type": "stream",
     "text": [
      "{'n_estimators': [200, 400, 600, 800, 1000, 1200, 1400, 1600, 1800, 2000], 'max_features': ['auto', 'sqrt'], 'max_depth': [10, 20, 30, 40, 50, 60, 70, 80, 90, 100, 110, None], 'min_samples_split': [2, 5, 10], 'min_samples_leaf': [1, 2, 4], 'bootstrap': [True, False]}\n"
     ]
    }
   ],
   "source": [
    "from sklearn.model_selection import RandomizedSearchCV\n",
    "# Number of trees in random forest\n",
    "n_estimators = [int(x) for x in np.linspace(start = 200, stop = 2000, num = 10)]\n",
    "# Number of features to consider at every split\n",
    "max_features = ['auto', 'sqrt']\n",
    "# Maximum number of levels in tree\n",
    "max_depth = [int(x) for x in np.linspace(10, 110, num = 11)]\n",
    "max_depth.append(None)\n",
    "# Minimum number of samples required to split a node\n",
    "min_samples_split = [2, 5, 10]\n",
    "# Minimum number of samples required at each leaf node\n",
    "min_samples_leaf = [1, 2, 4]\n",
    "# Method of selecting samples for training each tree\n",
    "bootstrap = [True, False]\n",
    "# Create the random grid\n",
    "random_grid = {'n_estimators': n_estimators,\n",
    "               'max_features': max_features,\n",
    "               'max_depth': max_depth,\n",
    "               'min_samples_split': min_samples_split,\n",
    "               'min_samples_leaf': min_samples_leaf,\n",
    "               'bootstrap': bootstrap}\n",
    "print(random_grid)"
   ]
  },
  {
   "cell_type": "code",
   "execution_count": 18,
   "id": "efa9876e",
   "metadata": {},
   "outputs": [
    {
     "name": "stdout",
     "output_type": "stream",
     "text": [
      "Fitting 10 folds for each of 100 candidates, totalling 1000 fits\n"
     ]
    },
    {
     "data": {
      "text/plain": [
       "RandomizedSearchCV(cv=KFold(n_splits=10, random_state=42, shuffle=True),\n",
       "                   estimator=RandomForestRegressor(), n_iter=100, n_jobs=-1,\n",
       "                   param_distributions={'bootstrap': [True, False],\n",
       "                                        'max_depth': [10, 20, 30, 40, 50, 60,\n",
       "                                                      70, 80, 90, 100, 110,\n",
       "                                                      None],\n",
       "                                        'max_features': ['auto', 'sqrt'],\n",
       "                                        'min_samples_leaf': [1, 2, 4],\n",
       "                                        'min_samples_split': [2, 5, 10],\n",
       "                                        'n_estimators': [200, 400, 600, 800,\n",
       "                                                         1000, 1200, 1400, 1600,\n",
       "                                                         1800, 2000]},\n",
       "                   random_state=42, verbose=2)"
      ]
     },
     "execution_count": 18,
     "metadata": {},
     "output_type": "execute_result"
    }
   ],
   "source": [
    "# Use the random grid to search for best hyperparameters\n",
    "# First create the base model to tune\n",
    "rf = RandomForestRegressor()\n",
    "# Random search of parameters, using 3 fold cross validation, \n",
    "kfold = KFold(n_splits=10, shuffle=True, random_state=RANDOM_STATE)\n",
    "# search across 100 different combinations, and use all available cores\n",
    "rf_random = RandomizedSearchCV(estimator = rf, param_distributions = random_grid, n_iter = 100, cv = kfold, verbose=2, random_state=RANDOM_STATE, n_jobs = -1)\n",
    "# Fit the random search model\n",
    "rf_random.fit(X_train, y_train)"
   ]
  },
  {
   "cell_type": "code",
   "execution_count": 20,
   "id": "eebd9fc2",
   "metadata": {},
   "outputs": [
    {
     "name": "stdout",
     "output_type": "stream",
     "text": [
      "0.03115296127121132\n",
      "{'n_estimators': 1400, 'min_samples_split': 5, 'min_samples_leaf': 1, 'max_features': 'sqrt', 'max_depth': 80, 'bootstrap': False}\n"
     ]
    }
   ],
   "source": [
    "# parametry pro nejlepsi strom\n",
    "best_std = rf_random.cv_results_['std_test_score'][rf_random.best_index_]\n",
    "print(best_std)\n",
    "best_params  = rf_random.best_params_\n",
    "print(best_params)"
   ]
  },
  {
   "cell_type": "markdown",
   "id": "89111165",
   "metadata": {},
   "source": [
    "qstat{'n_estimators': 1400,\n",
    " 'min_samples_split': 5,\n",
    " 'min_samples_leaf': 1,\n",
    " 'max_features': 'sqrt',\n",
    " 'max_depth': 80,\n",
    " 'bootstrap': False}"
   ]
  },
  {
   "cell_type": "markdown",
   "id": "a0e910b2",
   "metadata": {},
   "source": [
    "## Evaluate jednodychy random forest"
   ]
  },
  {
   "cell_type": "code",
   "execution_count": 21,
   "id": "2a9bbf65",
   "metadata": {},
   "outputs": [
    {
     "name": "stdout",
     "output_type": "stream",
     "text": [
      "Mean Squared Error: 0.5192958044365671\n",
      "Root Mean Squared Error: 0.7206218179021275\n"
     ]
    }
   ],
   "source": [
    "base_model = RandomForestRegressor(n_estimators=10,random_state = RANDOM_STATE)\n",
    "base_model.fit(X_train, y_train)\n",
    "y_pred = base_model.predict(X_test)\n",
    "\n",
    "# print('Mean Absolute Error:', metrics.mean_absolute_error(y_test, y_pred))\n",
    "print('Mean Squared Error:', metrics.mean_squared_error(y_test, y_pred))\n",
    "print('Root Mean Squared Error:', np.sqrt(metrics.mean_squared_error(y_test, y_pred)))\n",
    "# base_accuracy = evaluate(base_model, test_features, test_labels)"
   ]
  },
  {
   "cell_type": "markdown",
   "id": "1be80aae",
   "metadata": {},
   "source": [
    "## Evaluate Random Search"
   ]
  },
  {
   "cell_type": "code",
   "execution_count": 22,
   "id": "5dbb2511",
   "metadata": {},
   "outputs": [
    {
     "name": "stdout",
     "output_type": "stream",
     "text": [
      "Mean Squared Error: 0.4392467727293858\n",
      "Root Mean Squared Error: 0.6627569484580194\n"
     ]
    }
   ],
   "source": [
    "# vypdrnu se na grid search i random serach trva pomerne dlooooouho\n",
    "best_random = rf_random.best_estimator_\n",
    "y_pred = best_random .predict(X_test)\n",
    "# random_accuracy = evaluate(best_random, test_features, test_labels)\n",
    "\n",
    "# print('Mean Absolute Error:', metrics.mean_absolute_error(y_test, y_pred))\n",
    "print('Mean Squared Error:', metrics.mean_squared_error(y_test, y_pred))\n",
    "print('Root Mean Squared Error:', np.sqrt(metrics.mean_squared_error(y_test, y_pred)))"
   ]
  },
  {
   "cell_type": "markdown",
   "id": "d414707f",
   "metadata": {},
   "source": [
    "---------------------------------------------------------------------------------------------------------------------------\n",
    "# Vynechat\n",
    "- grid search je hodne pomaly, zvolila jsem radsi jen randomized search"
   ]
  },
  {
   "cell_type": "markdown",
   "id": "e11bbb6f",
   "metadata": {},
   "source": [
    "### Grid Search with Cross Validation"
   ]
  },
  {
   "cell_type": "code",
   "execution_count": null,
   "id": "21251b70",
   "metadata": {},
   "outputs": [],
   "source": [
    "# Create the parameter grid based on the results of random search \n",
    "param_grid = {\n",
    "    'bootstrap': [True],\n",
    "    'max_depth': [80, 90, 100, 110],\n",
    "    'max_features': [2, 3],\n",
    "    'min_samples_leaf': [3, 4, 5],\n",
    "    'min_samples_split': [8, 10, 12],\n",
    "    'n_estimators': [100, 200, 300, 1000]\n",
    "}\n",
    "# Create a based model\n",
    "rf = RandomForestRegressor()\n",
    "# Instantiate the grid search model\n",
    "grid_search = GridSearchCV(estimator = rf, param_grid = param_grid, cv = 3, n_jobs = -1, verbose = 2)"
   ]
  },
  {
   "cell_type": "code",
   "execution_count": null,
   "id": "78ff047c",
   "metadata": {},
   "outputs": [],
   "source": [
    "# Fit the grid search to the data\n",
    "grid_search.fit(X_train, y_train)\n",
    "grid_search.best_params_"
   ]
  },
  {
   "cell_type": "code",
   "execution_count": null,
   "id": "bbafd62b",
   "metadata": {},
   "outputs": [],
   "source": [
    "best_grid = grid_search.best_estimator_"
   ]
  },
  {
   "cell_type": "code",
   "execution_count": null,
   "id": "9c10a659",
   "metadata": {},
   "outputs": [],
   "source": [
    "y_pred = best_grid.predict(X_val)\n",
    "# random_accuracy = evaluate(best_random, test_features, test_labels)\n",
    "\n",
    "# print('Mean Absolute Error:', metrics.mean_absolute_error(y_test, y_pred))\n",
    "print('Mean Squared Error:', metrics.mean_squared_error(y_val, y_pred))\n",
    "print('Root Mean Squared Error:', np.sqrt(metrics.mean_squared_error(y_val, y_pred)))"
   ]
  },
  {
   "cell_type": "markdown",
   "id": "57f56b0a",
   "metadata": {},
   "source": [
    "### Vybran random search\n",
    "- pro hledani hyperparametry"
   ]
  },
  {
   "cell_type": "code",
   "execution_count": null,
   "id": "36964d29",
   "metadata": {},
   "outputs": [],
   "source": [
    "best_random = rf_random.best_estimator_\n",
    "y_pred = best_random .predict(X_test)\n",
    "# random_accuracy = evaluate(best_random, test_features, test_labels)\n",
    "\n",
    "# print('Mean Absolute Error:', metrics.mean_absolute_error(y_test, y_pred))\n",
    "print('Mean Squared Error:', metrics.mean_squared_error(y_tes, y_pred))\n",
    "print('Root Mean Squared Error:', np.sqrt(metrics.mean_squared_error(y_test, y_pred)))"
   ]
  },
  {
   "cell_type": "code",
   "execution_count": null,
   "id": "d4be6b92",
   "metadata": {},
   "outputs": [],
   "source": []
  },
  {
   "cell_type": "code",
   "execution_count": null,
   "id": "b9a01071",
   "metadata": {},
   "outputs": [],
   "source": []
  },
  {
   "cell_type": "code",
   "execution_count": null,
   "id": "9aef0a16",
   "metadata": {},
   "outputs": [],
   "source": []
  },
  {
   "cell_type": "code",
   "execution_count": null,
   "id": "4548e075",
   "metadata": {},
   "outputs": [],
   "source": []
  }
 ],
 "metadata": {
  "kernelspec": {
   "display_name": "Python 3",
   "language": "python",
   "name": "python3"
  },
  "language_info": {
   "codemirror_mode": {
    "name": "ipython",
    "version": 3
   },
   "file_extension": ".py",
   "mimetype": "text/x-python",
   "name": "python",
   "nbconvert_exporter": "python",
   "pygments_lexer": "ipython3",
   "version": "3.7.10"
  }
 },
 "nbformat": 4,
 "nbformat_minor": 5
}
